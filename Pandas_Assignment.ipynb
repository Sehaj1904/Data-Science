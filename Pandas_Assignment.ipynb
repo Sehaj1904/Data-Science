{
  "nbformat": 4,
  "nbformat_minor": 0,
  "metadata": {
    "colab": {
      "name": "Pandas Assignment.ipynb",
      "provenance": [],
      "collapsed_sections": [],
      "include_colab_link": true
    },
    "kernelspec": {
      "name": "python3",
      "display_name": "Python 3"
    },
    "language_info": {
      "name": "python"
    }
  },
  "cells": [
    {
      "cell_type": "markdown",
      "metadata": {
        "id": "view-in-github",
        "colab_type": "text"
      },
      "source": [
        "<a href=\"https://colab.research.google.com/github/Sehaj1904/Data-Science/blob/main/Pandas_Assignment.ipynb\" target=\"_parent\"><img src=\"https://colab.research.google.com/assets/colab-badge.svg\" alt=\"Open In Colab\"/></a>"
      ]
    },
    {
      "cell_type": "markdown",
      "source": [
        "**import pandas as pd and numpy as np**"
      ],
      "metadata": {
        "id": "zoRkvutsEsv9"
      }
    },
    {
      "cell_type": "code",
      "metadata": {
        "id": "L8z0tBlXt1mC"
      },
      "source": [
        "import numpy as np\n",
        "import pandas as pd"
      ],
      "execution_count": 1,
      "outputs": []
    },
    {
      "cell_type": "markdown",
      "source": [
        "read csv from this url https://raw.githubusercontent.com/Kokkalo4/Kaggle-SF-Salaries/master/Salaries.csv using pandas in df variable.\n",
        "\n",
        "\n",
        "If any error is printed ignore that."
      ],
      "metadata": {
        "id": "1F1WQpscEhqQ"
      }
    },
    {
      "cell_type": "code",
      "metadata": {
        "id": "LO98v31ct6iw",
        "colab": {
          "base_uri": "https://localhost:8080/"
        },
        "outputId": "96a0ec2a-7702-44ed-ba6c-7f887ae636e6"
      },
      "source": [
        "df = pd.read_csv(\"https://raw.githubusercontent.com/Kokkalo4/Kaggle-SF-Salaries/master/Salaries.csv\")"
      ],
      "execution_count": 143,
      "outputs": [
        {
          "output_type": "stream",
          "name": "stderr",
          "text": [
            "/usr/local/lib/python3.7/dist-packages/IPython/core/interactiveshell.py:2882: DtypeWarning: Columns (3,4,5,6,12) have mixed types.Specify dtype option on import or set low_memory=False.\n",
            "  exec(code_obj, self.user_global_ns, self.user_ns)\n"
          ]
        }
      ]
    },
    {
      "cell_type": "markdown",
      "metadata": {
        "id": "ZYHMdf1OuoCF"
      },
      "source": [
        "**check the head of DataFrame**\n",
        "\n",
        "\n"
      ]
    },
    {
      "cell_type": "code",
      "metadata": {
        "id": "3Hs476kddqd_",
        "colab": {
          "base_uri": "https://localhost:8080/",
          "height": 424
        },
        "outputId": "cd0022fe-8e4b-4fd3-f465-890c0ee0cd19"
      },
      "source": [
        "df.head()"
      ],
      "execution_count": 144,
      "outputs": [
        {
          "output_type": "execute_result",
          "data": {
            "text/html": [
              "\n",
              "  <div id=\"df-67cdb9b0-a761-4095-a83e-d91220462403\">\n",
              "    <div class=\"colab-df-container\">\n",
              "      <div>\n",
              "<style scoped>\n",
              "    .dataframe tbody tr th:only-of-type {\n",
              "        vertical-align: middle;\n",
              "    }\n",
              "\n",
              "    .dataframe tbody tr th {\n",
              "        vertical-align: top;\n",
              "    }\n",
              "\n",
              "    .dataframe thead th {\n",
              "        text-align: right;\n",
              "    }\n",
              "</style>\n",
              "<table border=\"1\" class=\"dataframe\">\n",
              "  <thead>\n",
              "    <tr style=\"text-align: right;\">\n",
              "      <th></th>\n",
              "      <th>Id</th>\n",
              "      <th>EmployeeName</th>\n",
              "      <th>JobTitle</th>\n",
              "      <th>BasePay</th>\n",
              "      <th>OvertimePay</th>\n",
              "      <th>OtherPay</th>\n",
              "      <th>Benefits</th>\n",
              "      <th>TotalPay</th>\n",
              "      <th>TotalPayBenefits</th>\n",
              "      <th>Year</th>\n",
              "      <th>Notes</th>\n",
              "      <th>Agency</th>\n",
              "      <th>Status</th>\n",
              "    </tr>\n",
              "  </thead>\n",
              "  <tbody>\n",
              "    <tr>\n",
              "      <th>0</th>\n",
              "      <td>1</td>\n",
              "      <td>NATHANIEL FORD</td>\n",
              "      <td>GENERAL MANAGER-METROPOLITAN TRANSIT AUTHORITY</td>\n",
              "      <td>167411.18</td>\n",
              "      <td>0.0</td>\n",
              "      <td>400184.25</td>\n",
              "      <td>NaN</td>\n",
              "      <td>567595.43</td>\n",
              "      <td>567595.43</td>\n",
              "      <td>2011</td>\n",
              "      <td>NaN</td>\n",
              "      <td>San Francisco</td>\n",
              "      <td>NaN</td>\n",
              "    </tr>\n",
              "    <tr>\n",
              "      <th>1</th>\n",
              "      <td>2</td>\n",
              "      <td>GARY JIMENEZ</td>\n",
              "      <td>CAPTAIN III (POLICE DEPARTMENT)</td>\n",
              "      <td>155966.02</td>\n",
              "      <td>245131.88</td>\n",
              "      <td>137811.38</td>\n",
              "      <td>NaN</td>\n",
              "      <td>538909.28</td>\n",
              "      <td>538909.28</td>\n",
              "      <td>2011</td>\n",
              "      <td>NaN</td>\n",
              "      <td>San Francisco</td>\n",
              "      <td>NaN</td>\n",
              "    </tr>\n",
              "    <tr>\n",
              "      <th>2</th>\n",
              "      <td>3</td>\n",
              "      <td>ALBERT PARDINI</td>\n",
              "      <td>CAPTAIN III (POLICE DEPARTMENT)</td>\n",
              "      <td>212739.13</td>\n",
              "      <td>106088.18</td>\n",
              "      <td>16452.6</td>\n",
              "      <td>NaN</td>\n",
              "      <td>335279.91</td>\n",
              "      <td>335279.91</td>\n",
              "      <td>2011</td>\n",
              "      <td>NaN</td>\n",
              "      <td>San Francisco</td>\n",
              "      <td>NaN</td>\n",
              "    </tr>\n",
              "    <tr>\n",
              "      <th>3</th>\n",
              "      <td>4</td>\n",
              "      <td>CHRISTOPHER CHONG</td>\n",
              "      <td>WIRE ROPE CABLE MAINTENANCE MECHANIC</td>\n",
              "      <td>77916.0</td>\n",
              "      <td>56120.71</td>\n",
              "      <td>198306.9</td>\n",
              "      <td>NaN</td>\n",
              "      <td>332343.61</td>\n",
              "      <td>332343.61</td>\n",
              "      <td>2011</td>\n",
              "      <td>NaN</td>\n",
              "      <td>San Francisco</td>\n",
              "      <td>NaN</td>\n",
              "    </tr>\n",
              "    <tr>\n",
              "      <th>4</th>\n",
              "      <td>5</td>\n",
              "      <td>PATRICK GARDNER</td>\n",
              "      <td>DEPUTY CHIEF OF DEPARTMENT,(FIRE DEPARTMENT)</td>\n",
              "      <td>134401.6</td>\n",
              "      <td>9737.0</td>\n",
              "      <td>182234.59</td>\n",
              "      <td>NaN</td>\n",
              "      <td>326373.19</td>\n",
              "      <td>326373.19</td>\n",
              "      <td>2011</td>\n",
              "      <td>NaN</td>\n",
              "      <td>San Francisco</td>\n",
              "      <td>NaN</td>\n",
              "    </tr>\n",
              "  </tbody>\n",
              "</table>\n",
              "</div>\n",
              "      <button class=\"colab-df-convert\" onclick=\"convertToInteractive('df-67cdb9b0-a761-4095-a83e-d91220462403')\"\n",
              "              title=\"Convert this dataframe to an interactive table.\"\n",
              "              style=\"display:none;\">\n",
              "        \n",
              "  <svg xmlns=\"http://www.w3.org/2000/svg\" height=\"24px\"viewBox=\"0 0 24 24\"\n",
              "       width=\"24px\">\n",
              "    <path d=\"M0 0h24v24H0V0z\" fill=\"none\"/>\n",
              "    <path d=\"M18.56 5.44l.94 2.06.94-2.06 2.06-.94-2.06-.94-.94-2.06-.94 2.06-2.06.94zm-11 1L8.5 8.5l.94-2.06 2.06-.94-2.06-.94L8.5 2.5l-.94 2.06-2.06.94zm10 10l.94 2.06.94-2.06 2.06-.94-2.06-.94-.94-2.06-.94 2.06-2.06.94z\"/><path d=\"M17.41 7.96l-1.37-1.37c-.4-.4-.92-.59-1.43-.59-.52 0-1.04.2-1.43.59L10.3 9.45l-7.72 7.72c-.78.78-.78 2.05 0 2.83L4 21.41c.39.39.9.59 1.41.59.51 0 1.02-.2 1.41-.59l7.78-7.78 2.81-2.81c.8-.78.8-2.07 0-2.86zM5.41 20L4 18.59l7.72-7.72 1.47 1.35L5.41 20z\"/>\n",
              "  </svg>\n",
              "      </button>\n",
              "      \n",
              "  <style>\n",
              "    .colab-df-container {\n",
              "      display:flex;\n",
              "      flex-wrap:wrap;\n",
              "      gap: 12px;\n",
              "    }\n",
              "\n",
              "    .colab-df-convert {\n",
              "      background-color: #E8F0FE;\n",
              "      border: none;\n",
              "      border-radius: 50%;\n",
              "      cursor: pointer;\n",
              "      display: none;\n",
              "      fill: #1967D2;\n",
              "      height: 32px;\n",
              "      padding: 0 0 0 0;\n",
              "      width: 32px;\n",
              "    }\n",
              "\n",
              "    .colab-df-convert:hover {\n",
              "      background-color: #E2EBFA;\n",
              "      box-shadow: 0px 1px 2px rgba(60, 64, 67, 0.3), 0px 1px 3px 1px rgba(60, 64, 67, 0.15);\n",
              "      fill: #174EA6;\n",
              "    }\n",
              "\n",
              "    [theme=dark] .colab-df-convert {\n",
              "      background-color: #3B4455;\n",
              "      fill: #D2E3FC;\n",
              "    }\n",
              "\n",
              "    [theme=dark] .colab-df-convert:hover {\n",
              "      background-color: #434B5C;\n",
              "      box-shadow: 0px 1px 3px 1px rgba(0, 0, 0, 0.15);\n",
              "      filter: drop-shadow(0px 1px 2px rgba(0, 0, 0, 0.3));\n",
              "      fill: #FFFFFF;\n",
              "    }\n",
              "  </style>\n",
              "\n",
              "      <script>\n",
              "        const buttonEl =\n",
              "          document.querySelector('#df-67cdb9b0-a761-4095-a83e-d91220462403 button.colab-df-convert');\n",
              "        buttonEl.style.display =\n",
              "          google.colab.kernel.accessAllowed ? 'block' : 'none';\n",
              "\n",
              "        async function convertToInteractive(key) {\n",
              "          const element = document.querySelector('#df-67cdb9b0-a761-4095-a83e-d91220462403');\n",
              "          const dataTable =\n",
              "            await google.colab.kernel.invokeFunction('convertToInteractive',\n",
              "                                                     [key], {});\n",
              "          if (!dataTable) return;\n",
              "\n",
              "          const docLinkHtml = 'Like what you see? Visit the ' +\n",
              "            '<a target=\"_blank\" href=https://colab.research.google.com/notebooks/data_table.ipynb>data table notebook</a>'\n",
              "            + ' to learn more about interactive tables.';\n",
              "          element.innerHTML = '';\n",
              "          dataTable['output_type'] = 'display_data';\n",
              "          await google.colab.output.renderOutput(dataTable, element);\n",
              "          const docLink = document.createElement('div');\n",
              "          docLink.innerHTML = docLinkHtml;\n",
              "          element.appendChild(docLink);\n",
              "        }\n",
              "      </script>\n",
              "    </div>\n",
              "  </div>\n",
              "  "
            ],
            "text/plain": [
              "   Id       EmployeeName  ...         Agency Status\n",
              "0   1     NATHANIEL FORD  ...  San Francisco    NaN\n",
              "1   2       GARY JIMENEZ  ...  San Francisco    NaN\n",
              "2   3     ALBERT PARDINI  ...  San Francisco    NaN\n",
              "3   4  CHRISTOPHER CHONG  ...  San Francisco    NaN\n",
              "4   5    PATRICK GARDNER  ...  San Francisco    NaN\n",
              "\n",
              "[5 rows x 13 columns]"
            ]
          },
          "metadata": {},
          "execution_count": 144
        }
      ]
    },
    {
      "cell_type": "markdown",
      "metadata": {
        "id": "q4guqLVUu3s4"
      },
      "source": [
        "**use the info method to find out how many entries there are.**"
      ]
    },
    {
      "cell_type": "code",
      "metadata": {
        "colab": {
          "base_uri": "https://localhost:8080/"
        },
        "id": "TKxsUr-cuh0N",
        "outputId": "589afbeb-4da7-4da2-ab3e-33b388802745"
      },
      "source": [
        "df.info()"
      ],
      "execution_count": 145,
      "outputs": [
        {
          "output_type": "stream",
          "name": "stdout",
          "text": [
            "<class 'pandas.core.frame.DataFrame'>\n",
            "RangeIndex: 148654 entries, 0 to 148653\n",
            "Data columns (total 13 columns):\n",
            " #   Column            Non-Null Count   Dtype  \n",
            "---  ------            --------------   -----  \n",
            " 0   Id                148654 non-null  int64  \n",
            " 1   EmployeeName      148654 non-null  object \n",
            " 2   JobTitle          148654 non-null  object \n",
            " 3   BasePay           148049 non-null  object \n",
            " 4   OvertimePay       148654 non-null  object \n",
            " 5   OtherPay          148654 non-null  object \n",
            " 6   Benefits          112495 non-null  object \n",
            " 7   TotalPay          148654 non-null  float64\n",
            " 8   TotalPayBenefits  148654 non-null  float64\n",
            " 9   Year              148654 non-null  int64  \n",
            " 10  Notes             0 non-null       float64\n",
            " 11  Agency            148654 non-null  object \n",
            " 12  Status            38119 non-null   object \n",
            "dtypes: float64(3), int64(2), object(8)\n",
            "memory usage: 14.7+ MB\n"
          ]
        }
      ]
    },
    {
      "cell_type": "markdown",
      "source": [
        "BasePay and OvertimePay both the fields are of **object** type and contains **missing data**, convert them to numeric using\n",
        "\n",
        " `pd.to_numeric(df[column_name], errors='coerce')` errors='coerce' will replace all non-numeric values with NaN\n",
        "\n",
        " then check datatype using info function"
      ],
      "metadata": {
        "id": "55lbeP7q4Kt7"
      }
    },
    {
      "cell_type": "code",
      "source": [
        "df[\"BasePay\"] = pd.to_numeric(df[\"BasePay\"],errors='coerce')\n",
        "df[\"OvertimePay\"] = pd.to_numeric(df[\"OvertimePay\"],errors='coerce')"
      ],
      "metadata": {
        "id": "yV_JbMJH4ds3"
      },
      "execution_count": 5,
      "outputs": []
    },
    {
      "cell_type": "code",
      "source": [
        "df.info()"
      ],
      "metadata": {
        "id": "n9O60T3A4n4P",
        "outputId": "5900f0c2-e5e1-4d2d-d19a-7e4e4cac3cda",
        "colab": {
          "base_uri": "https://localhost:8080/"
        }
      },
      "execution_count": 6,
      "outputs": [
        {
          "output_type": "stream",
          "name": "stdout",
          "text": [
            "<class 'pandas.core.frame.DataFrame'>\n",
            "RangeIndex: 148654 entries, 0 to 148653\n",
            "Data columns (total 13 columns):\n",
            " #   Column            Non-Null Count   Dtype  \n",
            "---  ------            --------------   -----  \n",
            " 0   Id                148654 non-null  int64  \n",
            " 1   EmployeeName      148654 non-null  object \n",
            " 2   JobTitle          148654 non-null  object \n",
            " 3   BasePay           148045 non-null  float64\n",
            " 4   OvertimePay       148650 non-null  float64\n",
            " 5   OtherPay          148654 non-null  object \n",
            " 6   Benefits          112495 non-null  object \n",
            " 7   TotalPay          148654 non-null  float64\n",
            " 8   TotalPayBenefits  148654 non-null  float64\n",
            " 9   Year              148654 non-null  int64  \n",
            " 10  Notes             0 non-null       float64\n",
            " 11  Agency            148654 non-null  object \n",
            " 12  Status            38119 non-null   object \n",
            "dtypes: float64(5), int64(2), object(6)\n",
            "memory usage: 14.7+ MB\n"
          ]
        }
      ]
    },
    {
      "cell_type": "markdown",
      "metadata": {
        "id": "uMlELt6pvGRv"
      },
      "source": [
        "**What is the average BasePay?**"
      ]
    },
    {
      "cell_type": "code",
      "metadata": {
        "id": "TqFqU5v_dsYK",
        "colab": {
          "base_uri": "https://localhost:8080/"
        },
        "outputId": "551c4699-2aaf-46a3-9cf0-bdf5bb5d185d"
      },
      "source": [
        "df[\"BasePay\"].mean()"
      ],
      "execution_count": 7,
      "outputs": [
        {
          "output_type": "execute_result",
          "data": {
            "text/plain": [
              "66325.44884050643"
            ]
          },
          "metadata": {},
          "execution_count": 7
        }
      ]
    },
    {
      "cell_type": "markdown",
      "metadata": {
        "id": "nJWtU2L9zaDq"
      },
      "source": [
        "**What is the highest amount of OvertimePay in the dataset?**"
      ]
    },
    {
      "cell_type": "code",
      "metadata": {
        "id": "OCN9UhwqdtLk",
        "colab": {
          "base_uri": "https://localhost:8080/"
        },
        "outputId": "d5ba30c0-8f4e-49bc-be05-45a7aa9a4252"
      },
      "source": [
        "df[\"OvertimePay\"].max()"
      ],
      "execution_count": 8,
      "outputs": [
        {
          "output_type": "execute_result",
          "data": {
            "text/plain": [
              "245131.88"
            ]
          },
          "metadata": {},
          "execution_count": 8
        }
      ]
    },
    {
      "cell_type": "markdown",
      "metadata": {
        "id": "rYI-Oix34iEi"
      },
      "source": [
        "**What is the Job Title of JOSEPH DRISCOLL?**"
      ]
    },
    {
      "cell_type": "code",
      "metadata": {
        "id": "abIYqLy1dt8Y",
        "colab": {
          "base_uri": "https://localhost:8080/"
        },
        "outputId": "f1cd868e-54b6-462c-8099-7988434cb389"
      },
      "source": [
        "df[df['EmployeeName'] == 'JOSEPH DRISCOLL']['JobTitle']"
      ],
      "execution_count": 9,
      "outputs": [
        {
          "output_type": "execute_result",
          "data": {
            "text/plain": [
              "24    CAPTAIN, FIRE SUPPRESSION\n",
              "Name: JobTitle, dtype: object"
            ]
          },
          "metadata": {},
          "execution_count": 9
        }
      ]
    },
    {
      "cell_type": "markdown",
      "metadata": {
        "id": "655t31sq5FsP"
      },
      "source": [
        "**How much does JOSEPH DRISCOLL make (including benefits)**"
      ]
    },
    {
      "cell_type": "code",
      "metadata": {
        "id": "7y0404xYdvG-",
        "colab": {
          "base_uri": "https://localhost:8080/"
        },
        "outputId": "ace2ea2e-d5bf-4140-960d-7b6aa077f1c4"
      },
      "source": [
        "df[df['EmployeeName'] == 'JOSEPH DRISCOLL']['TotalPayBenefits']"
      ],
      "execution_count": 10,
      "outputs": [
        {
          "output_type": "execute_result",
          "data": {
            "text/plain": [
              "24    270324.91\n",
              "Name: TotalPayBenefits, dtype: float64"
            ]
          },
          "metadata": {},
          "execution_count": 10
        }
      ]
    },
    {
      "cell_type": "markdown",
      "metadata": {
        "id": "7S8IJPSq5xvV"
      },
      "source": [
        "**What is the name of highest paid person**"
      ]
    },
    {
      "cell_type": "code",
      "metadata": {
        "id": "vBk2SnBRdx13",
        "colab": {
          "base_uri": "https://localhost:8080/"
        },
        "outputId": "ea894e79-d588-4f6b-fb16-71aa86201ded"
      },
      "source": [
        "max = df['TotalPayBenefits'].max()\n",
        "df[df['TotalPayBenefits'] == max]['EmployeeName']"
      ],
      "execution_count": 11,
      "outputs": [
        {
          "output_type": "execute_result",
          "data": {
            "text/plain": [
              "0    NATHANIEL FORD\n",
              "Name: EmployeeName, dtype: object"
            ]
          },
          "metadata": {},
          "execution_count": 11
        }
      ]
    },
    {
      "cell_type": "markdown",
      "metadata": {
        "id": "3KPozhE66y_S"
      },
      "source": [
        "**What is the name of lowest paid person (including benefits)?**"
      ]
    },
    {
      "cell_type": "code",
      "metadata": {
        "id": "z1FpptNody88"
      },
      "source": [
        "min = df['TotalPayBenefits'].min() # DOUBT"
      ],
      "execution_count": 22,
      "outputs": []
    },
    {
      "cell_type": "code",
      "source": [
        "# np.where(condition , put value true, put value false)\n",
        "idx = np.where(df['TotalPayBenefits'].min() == df['TotalPayBenefits'])[0][0]\n",
        "df.iloc[idx]"
      ],
      "metadata": {
        "colab": {
          "base_uri": "https://localhost:8080/"
        },
        "id": "xZvB9iK5Mch-",
        "outputId": "9226817c-f469-4596-f2d3-661eb91bf8bb"
      },
      "execution_count": 31,
      "outputs": [
        {
          "output_type": "execute_result",
          "data": {
            "text/plain": [
              "Id                                      148654\n",
              "EmployeeName                         Joe Lopez\n",
              "JobTitle            Counselor, Log Cabin Ranch\n",
              "BasePay                                    0.0\n",
              "OvertimePay                                0.0\n",
              "OtherPay                               -618.13\n",
              "Benefits                                  0.00\n",
              "TotalPay                               -618.13\n",
              "TotalPayBenefits                       -618.13\n",
              "Year                                      2014\n",
              "Agency                           San Francisco\n",
              "Status                                      PT\n",
              "Name: 148653, dtype: object"
            ]
          },
          "metadata": {},
          "execution_count": 31
        }
      ]
    },
    {
      "cell_type": "code",
      "metadata": {
        "colab": {
          "base_uri": "https://localhost:8080/",
          "height": 425
        },
        "id": "AS0x187B6fHH",
        "outputId": "1f97ca78-55c5-452c-d3b6-001aa6ddbb59"
      },
      "source": [
        "# ind = df[df['TotalPayBenefits'] == min].T   # transpose\n",
        "# ind"
      ],
      "execution_count": 33,
      "outputs": [
        {
          "output_type": "execute_result",
          "data": {
            "text/html": [
              "\n",
              "  <div id=\"df-6fd11120-8d06-4e18-8611-d36cd366c85e\">\n",
              "    <div class=\"colab-df-container\">\n",
              "      <div>\n",
              "<style scoped>\n",
              "    .dataframe tbody tr th:only-of-type {\n",
              "        vertical-align: middle;\n",
              "    }\n",
              "\n",
              "    .dataframe tbody tr th {\n",
              "        vertical-align: top;\n",
              "    }\n",
              "\n",
              "    .dataframe thead th {\n",
              "        text-align: right;\n",
              "    }\n",
              "</style>\n",
              "<table border=\"1\" class=\"dataframe\">\n",
              "  <thead>\n",
              "    <tr style=\"text-align: right;\">\n",
              "      <th></th>\n",
              "      <th>148653</th>\n",
              "    </tr>\n",
              "  </thead>\n",
              "  <tbody>\n",
              "    <tr>\n",
              "      <th>Id</th>\n",
              "      <td>148654</td>\n",
              "    </tr>\n",
              "    <tr>\n",
              "      <th>EmployeeName</th>\n",
              "      <td>Joe Lopez</td>\n",
              "    </tr>\n",
              "    <tr>\n",
              "      <th>JobTitle</th>\n",
              "      <td>Counselor, Log Cabin Ranch</td>\n",
              "    </tr>\n",
              "    <tr>\n",
              "      <th>BasePay</th>\n",
              "      <td>0.0</td>\n",
              "    </tr>\n",
              "    <tr>\n",
              "      <th>OvertimePay</th>\n",
              "      <td>0.0</td>\n",
              "    </tr>\n",
              "    <tr>\n",
              "      <th>OtherPay</th>\n",
              "      <td>-618.13</td>\n",
              "    </tr>\n",
              "    <tr>\n",
              "      <th>Benefits</th>\n",
              "      <td>0.00</td>\n",
              "    </tr>\n",
              "    <tr>\n",
              "      <th>TotalPay</th>\n",
              "      <td>-618.13</td>\n",
              "    </tr>\n",
              "    <tr>\n",
              "      <th>TotalPayBenefits</th>\n",
              "      <td>-618.13</td>\n",
              "    </tr>\n",
              "    <tr>\n",
              "      <th>Year</th>\n",
              "      <td>2014</td>\n",
              "    </tr>\n",
              "    <tr>\n",
              "      <th>Agency</th>\n",
              "      <td>San Francisco</td>\n",
              "    </tr>\n",
              "    <tr>\n",
              "      <th>Status</th>\n",
              "      <td>PT</td>\n",
              "    </tr>\n",
              "  </tbody>\n",
              "</table>\n",
              "</div>\n",
              "      <button class=\"colab-df-convert\" onclick=\"convertToInteractive('df-6fd11120-8d06-4e18-8611-d36cd366c85e')\"\n",
              "              title=\"Convert this dataframe to an interactive table.\"\n",
              "              style=\"display:none;\">\n",
              "        \n",
              "  <svg xmlns=\"http://www.w3.org/2000/svg\" height=\"24px\"viewBox=\"0 0 24 24\"\n",
              "       width=\"24px\">\n",
              "    <path d=\"M0 0h24v24H0V0z\" fill=\"none\"/>\n",
              "    <path d=\"M18.56 5.44l.94 2.06.94-2.06 2.06-.94-2.06-.94-.94-2.06-.94 2.06-2.06.94zm-11 1L8.5 8.5l.94-2.06 2.06-.94-2.06-.94L8.5 2.5l-.94 2.06-2.06.94zm10 10l.94 2.06.94-2.06 2.06-.94-2.06-.94-.94-2.06-.94 2.06-2.06.94z\"/><path d=\"M17.41 7.96l-1.37-1.37c-.4-.4-.92-.59-1.43-.59-.52 0-1.04.2-1.43.59L10.3 9.45l-7.72 7.72c-.78.78-.78 2.05 0 2.83L4 21.41c.39.39.9.59 1.41.59.51 0 1.02-.2 1.41-.59l7.78-7.78 2.81-2.81c.8-.78.8-2.07 0-2.86zM5.41 20L4 18.59l7.72-7.72 1.47 1.35L5.41 20z\"/>\n",
              "  </svg>\n",
              "      </button>\n",
              "      \n",
              "  <style>\n",
              "    .colab-df-container {\n",
              "      display:flex;\n",
              "      flex-wrap:wrap;\n",
              "      gap: 12px;\n",
              "    }\n",
              "\n",
              "    .colab-df-convert {\n",
              "      background-color: #E8F0FE;\n",
              "      border: none;\n",
              "      border-radius: 50%;\n",
              "      cursor: pointer;\n",
              "      display: none;\n",
              "      fill: #1967D2;\n",
              "      height: 32px;\n",
              "      padding: 0 0 0 0;\n",
              "      width: 32px;\n",
              "    }\n",
              "\n",
              "    .colab-df-convert:hover {\n",
              "      background-color: #E2EBFA;\n",
              "      box-shadow: 0px 1px 2px rgba(60, 64, 67, 0.3), 0px 1px 3px 1px rgba(60, 64, 67, 0.15);\n",
              "      fill: #174EA6;\n",
              "    }\n",
              "\n",
              "    [theme=dark] .colab-df-convert {\n",
              "      background-color: #3B4455;\n",
              "      fill: #D2E3FC;\n",
              "    }\n",
              "\n",
              "    [theme=dark] .colab-df-convert:hover {\n",
              "      background-color: #434B5C;\n",
              "      box-shadow: 0px 1px 3px 1px rgba(0, 0, 0, 0.15);\n",
              "      filter: drop-shadow(0px 1px 2px rgba(0, 0, 0, 0.3));\n",
              "      fill: #FFFFFF;\n",
              "    }\n",
              "  </style>\n",
              "\n",
              "      <script>\n",
              "        const buttonEl =\n",
              "          document.querySelector('#df-6fd11120-8d06-4e18-8611-d36cd366c85e button.colab-df-convert');\n",
              "        buttonEl.style.display =\n",
              "          google.colab.kernel.accessAllowed ? 'block' : 'none';\n",
              "\n",
              "        async function convertToInteractive(key) {\n",
              "          const element = document.querySelector('#df-6fd11120-8d06-4e18-8611-d36cd366c85e');\n",
              "          const dataTable =\n",
              "            await google.colab.kernel.invokeFunction('convertToInteractive',\n",
              "                                                     [key], {});\n",
              "          if (!dataTable) return;\n",
              "\n",
              "          const docLinkHtml = 'Like what you see? Visit the ' +\n",
              "            '<a target=\"_blank\" href=https://colab.research.google.com/notebooks/data_table.ipynb>data table notebook</a>'\n",
              "            + ' to learn more about interactive tables.';\n",
              "          element.innerHTML = '';\n",
              "          dataTable['output_type'] = 'display_data';\n",
              "          await google.colab.output.renderOutput(dataTable, element);\n",
              "          const docLink = document.createElement('div');\n",
              "          docLink.innerHTML = docLinkHtml;\n",
              "          element.appendChild(docLink);\n",
              "        }\n",
              "      </script>\n",
              "    </div>\n",
              "  </div>\n",
              "  "
            ],
            "text/plain": [
              "                                      148653\n",
              "Id                                    148654\n",
              "EmployeeName                       Joe Lopez\n",
              "JobTitle          Counselor, Log Cabin Ranch\n",
              "BasePay                                  0.0\n",
              "OvertimePay                              0.0\n",
              "OtherPay                             -618.13\n",
              "Benefits                                0.00\n",
              "TotalPay                             -618.13\n",
              "TotalPayBenefits                     -618.13\n",
              "Year                                    2014\n",
              "Agency                         San Francisco\n",
              "Status                                    PT"
            ]
          },
          "metadata": {},
          "execution_count": 33
        }
      ]
    },
    {
      "cell_type": "markdown",
      "source": [
        "drop the column with **0 non-null** value, then print info"
      ],
      "metadata": {
        "id": "au-0Eu1M-UCv"
      }
    },
    {
      "cell_type": "code",
      "source": [
        "df.drop(columns = ['Notes'],inplace=True)"
      ],
      "metadata": {
        "id": "p9gAmz9g-lXU"
      },
      "execution_count": 14,
      "outputs": []
    },
    {
      "cell_type": "code",
      "source": [
        "df.info()"
      ],
      "metadata": {
        "id": "SZRxohSr-QFw",
        "outputId": "5969f4b1-06ae-4db5-c654-eb701bdeb249",
        "colab": {
          "base_uri": "https://localhost:8080/"
        }
      },
      "execution_count": 15,
      "outputs": [
        {
          "output_type": "stream",
          "name": "stdout",
          "text": [
            "<class 'pandas.core.frame.DataFrame'>\n",
            "RangeIndex: 148654 entries, 0 to 148653\n",
            "Data columns (total 12 columns):\n",
            " #   Column            Non-Null Count   Dtype  \n",
            "---  ------            --------------   -----  \n",
            " 0   Id                148654 non-null  int64  \n",
            " 1   EmployeeName      148654 non-null  object \n",
            " 2   JobTitle          148654 non-null  object \n",
            " 3   BasePay           148045 non-null  float64\n",
            " 4   OvertimePay       148650 non-null  float64\n",
            " 5   OtherPay          148654 non-null  object \n",
            " 6   Benefits          112495 non-null  object \n",
            " 7   TotalPay          148654 non-null  float64\n",
            " 8   TotalPayBenefits  148654 non-null  float64\n",
            " 9   Year              148654 non-null  int64  \n",
            " 10  Agency            148654 non-null  object \n",
            " 11  Status            38119 non-null   object \n",
            "dtypes: float64(4), int64(2), object(6)\n",
            "memory usage: 13.6+ MB\n"
          ]
        }
      ]
    },
    {
      "cell_type": "markdown",
      "metadata": {
        "id": "RojthL1u7hNf"
      },
      "source": [
        "**What was the average (mean) BasePay of all employees per year?(2011, 2014)**"
      ]
    },
    {
      "cell_type": "code",
      "metadata": {
        "id": "5MWZEkT1d1LV",
        "colab": {
          "base_uri": "https://localhost:8080/",
          "height": 175
        },
        "outputId": "99b40142-3560-4901-c0fc-895787dbe072"
      },
      "source": [
        "df.groupby('Year')[['BasePay']].mean().reset_index()"
      ],
      "execution_count": 16,
      "outputs": [
        {
          "output_type": "execute_result",
          "data": {
            "text/html": [
              "\n",
              "  <div id=\"df-ca6f2da2-8d49-4ec0-b4bd-882fda39136b\">\n",
              "    <div class=\"colab-df-container\">\n",
              "      <div>\n",
              "<style scoped>\n",
              "    .dataframe tbody tr th:only-of-type {\n",
              "        vertical-align: middle;\n",
              "    }\n",
              "\n",
              "    .dataframe tbody tr th {\n",
              "        vertical-align: top;\n",
              "    }\n",
              "\n",
              "    .dataframe thead th {\n",
              "        text-align: right;\n",
              "    }\n",
              "</style>\n",
              "<table border=\"1\" class=\"dataframe\">\n",
              "  <thead>\n",
              "    <tr style=\"text-align: right;\">\n",
              "      <th></th>\n",
              "      <th>Year</th>\n",
              "      <th>BasePay</th>\n",
              "    </tr>\n",
              "  </thead>\n",
              "  <tbody>\n",
              "    <tr>\n",
              "      <th>0</th>\n",
              "      <td>2011</td>\n",
              "      <td>63595.956517</td>\n",
              "    </tr>\n",
              "    <tr>\n",
              "      <th>1</th>\n",
              "      <td>2012</td>\n",
              "      <td>65436.406857</td>\n",
              "    </tr>\n",
              "    <tr>\n",
              "      <th>2</th>\n",
              "      <td>2013</td>\n",
              "      <td>69630.030216</td>\n",
              "    </tr>\n",
              "    <tr>\n",
              "      <th>3</th>\n",
              "      <td>2014</td>\n",
              "      <td>66564.421924</td>\n",
              "    </tr>\n",
              "  </tbody>\n",
              "</table>\n",
              "</div>\n",
              "      <button class=\"colab-df-convert\" onclick=\"convertToInteractive('df-ca6f2da2-8d49-4ec0-b4bd-882fda39136b')\"\n",
              "              title=\"Convert this dataframe to an interactive table.\"\n",
              "              style=\"display:none;\">\n",
              "        \n",
              "  <svg xmlns=\"http://www.w3.org/2000/svg\" height=\"24px\"viewBox=\"0 0 24 24\"\n",
              "       width=\"24px\">\n",
              "    <path d=\"M0 0h24v24H0V0z\" fill=\"none\"/>\n",
              "    <path d=\"M18.56 5.44l.94 2.06.94-2.06 2.06-.94-2.06-.94-.94-2.06-.94 2.06-2.06.94zm-11 1L8.5 8.5l.94-2.06 2.06-.94-2.06-.94L8.5 2.5l-.94 2.06-2.06.94zm10 10l.94 2.06.94-2.06 2.06-.94-2.06-.94-.94-2.06-.94 2.06-2.06.94z\"/><path d=\"M17.41 7.96l-1.37-1.37c-.4-.4-.92-.59-1.43-.59-.52 0-1.04.2-1.43.59L10.3 9.45l-7.72 7.72c-.78.78-.78 2.05 0 2.83L4 21.41c.39.39.9.59 1.41.59.51 0 1.02-.2 1.41-.59l7.78-7.78 2.81-2.81c.8-.78.8-2.07 0-2.86zM5.41 20L4 18.59l7.72-7.72 1.47 1.35L5.41 20z\"/>\n",
              "  </svg>\n",
              "      </button>\n",
              "      \n",
              "  <style>\n",
              "    .colab-df-container {\n",
              "      display:flex;\n",
              "      flex-wrap:wrap;\n",
              "      gap: 12px;\n",
              "    }\n",
              "\n",
              "    .colab-df-convert {\n",
              "      background-color: #E8F0FE;\n",
              "      border: none;\n",
              "      border-radius: 50%;\n",
              "      cursor: pointer;\n",
              "      display: none;\n",
              "      fill: #1967D2;\n",
              "      height: 32px;\n",
              "      padding: 0 0 0 0;\n",
              "      width: 32px;\n",
              "    }\n",
              "\n",
              "    .colab-df-convert:hover {\n",
              "      background-color: #E2EBFA;\n",
              "      box-shadow: 0px 1px 2px rgba(60, 64, 67, 0.3), 0px 1px 3px 1px rgba(60, 64, 67, 0.15);\n",
              "      fill: #174EA6;\n",
              "    }\n",
              "\n",
              "    [theme=dark] .colab-df-convert {\n",
              "      background-color: #3B4455;\n",
              "      fill: #D2E3FC;\n",
              "    }\n",
              "\n",
              "    [theme=dark] .colab-df-convert:hover {\n",
              "      background-color: #434B5C;\n",
              "      box-shadow: 0px 1px 3px 1px rgba(0, 0, 0, 0.15);\n",
              "      filter: drop-shadow(0px 1px 2px rgba(0, 0, 0, 0.3));\n",
              "      fill: #FFFFFF;\n",
              "    }\n",
              "  </style>\n",
              "\n",
              "      <script>\n",
              "        const buttonEl =\n",
              "          document.querySelector('#df-ca6f2da2-8d49-4ec0-b4bd-882fda39136b button.colab-df-convert');\n",
              "        buttonEl.style.display =\n",
              "          google.colab.kernel.accessAllowed ? 'block' : 'none';\n",
              "\n",
              "        async function convertToInteractive(key) {\n",
              "          const element = document.querySelector('#df-ca6f2da2-8d49-4ec0-b4bd-882fda39136b');\n",
              "          const dataTable =\n",
              "            await google.colab.kernel.invokeFunction('convertToInteractive',\n",
              "                                                     [key], {});\n",
              "          if (!dataTable) return;\n",
              "\n",
              "          const docLinkHtml = 'Like what you see? Visit the ' +\n",
              "            '<a target=\"_blank\" href=https://colab.research.google.com/notebooks/data_table.ipynb>data table notebook</a>'\n",
              "            + ' to learn more about interactive tables.';\n",
              "          element.innerHTML = '';\n",
              "          dataTable['output_type'] = 'display_data';\n",
              "          await google.colab.output.renderOutput(dataTable, element);\n",
              "          const docLink = document.createElement('div');\n",
              "          docLink.innerHTML = docLinkHtml;\n",
              "          element.appendChild(docLink);\n",
              "        }\n",
              "      </script>\n",
              "    </div>\n",
              "  </div>\n",
              "  "
            ],
            "text/plain": [
              "   Year       BasePay\n",
              "0  2011  63595.956517\n",
              "1  2012  65436.406857\n",
              "2  2013  69630.030216\n",
              "3  2014  66564.421924"
            ]
          },
          "metadata": {},
          "execution_count": 16
        }
      ]
    },
    {
      "cell_type": "markdown",
      "metadata": {
        "id": "8ODaELxwLwe8"
      },
      "source": [
        "**How many unique job titles are there**"
      ]
    },
    {
      "cell_type": "code",
      "metadata": {
        "id": "_MUO7JTOd2sL",
        "colab": {
          "base_uri": "https://localhost:8080/"
        },
        "outputId": "1e222395-2b19-4225-8ad7-b5297ca267e5"
      },
      "source": [
        "df['JobTitle'].nunique()"
      ],
      "execution_count": 17,
      "outputs": [
        {
          "output_type": "execute_result",
          "data": {
            "text/plain": [
              "2159"
            ]
          },
          "metadata": {},
          "execution_count": 17
        }
      ]
    },
    {
      "cell_type": "markdown",
      "metadata": {
        "id": "gobw6W0qMHnZ"
      },
      "source": [
        "**What are the top 5 most common jobs?**\n",
        "\n",
        "**value_counts**\n",
        "\n",
        "Return a Series containing counts of unique values.\n",
        "\n",
        "The resulting object will be in descending order so that the first element is the most frequently-occurring element. Excludes NA values by default."
      ]
    },
    {
      "cell_type": "code",
      "metadata": {
        "id": "KCwVAPxHd3-B",
        "colab": {
          "base_uri": "https://localhost:8080/"
        },
        "outputId": "fc792ee6-2d5d-42fe-846d-ac7a037b2abf"
      },
      "source": [
        "df['JobTitle'].value_counts().head() # using head bcoz first 5 kaha hai"
      ],
      "execution_count": 18,
      "outputs": [
        {
          "output_type": "execute_result",
          "data": {
            "text/plain": [
              "Transit Operator                7036\n",
              "Special Nurse                   4389\n",
              "Registered Nurse                3736\n",
              "Public Svc Aide-Public Works    2518\n",
              "Police Officer 3                2421\n",
              "Name: JobTitle, dtype: int64"
            ]
          },
          "metadata": {},
          "execution_count": 18
        }
      ]
    },
    {
      "cell_type": "markdown",
      "metadata": {
        "id": "DYo0zcxBMx8T"
      },
      "source": [
        "**JobTitles with only one occurence in 2013?**"
      ]
    },
    {
      "cell_type": "code",
      "metadata": {
        "id": "5Zm7x9-zd5Hu",
        "colab": {
          "base_uri": "https://localhost:8080/"
        },
        "outputId": "b13c9f0e-2a36-4e6b-c43f-910aca6cb71f"
      },
      "source": [
        "(df[df['Year'] == 2013]['JobTitle'].value_counts() == 1).sum()"
      ],
      "execution_count": 19,
      "outputs": [
        {
          "output_type": "execute_result",
          "data": {
            "text/plain": [
              "202"
            ]
          },
          "metadata": {},
          "execution_count": 19
        }
      ]
    },
    {
      "cell_type": "markdown",
      "metadata": {
        "id": "AxNuuKlVOqQp"
      },
      "source": [
        "**How many people has word chief in there jobtitle?**"
      ]
    },
    {
      "cell_type": "code",
      "metadata": {
        "id": "uh8Oay3Yd6Eq",
        "colab": {
          "base_uri": "https://localhost:8080/"
        },
        "outputId": "ffc67a73-b0e4-4917-b093-6dcc00bb0e4a"
      },
      "source": [
        "count = 0\n",
        "for jt in df['JobTitle']:\n",
        "  if 'chief' in jt.lower().split():\n",
        "    count+=1\n",
        "\n",
        "print(count)"
      ],
      "execution_count": 41,
      "outputs": [
        {
          "output_type": "stream",
          "name": "stdout",
          "text": [
            "477\n"
          ]
        }
      ]
    },
    {
      "cell_type": "markdown",
      "metadata": {
        "id": "wPz_hb0NP0Tf"
      },
      "source": [
        "**Find correlation of TotalPay with other fields**"
      ]
    },
    {
      "cell_type": "code",
      "metadata": {
        "id": "27TcvkAET8iz",
        "colab": {
          "base_uri": "https://localhost:8080/"
        },
        "outputId": "de9e9eaf-bce5-43ea-de01-09b767be9bdb"
      },
      "source": [
        "df.corr()['TotalPay'] # DOUBT\n"
      ],
      "execution_count": 47,
      "outputs": [
        {
          "output_type": "execute_result",
          "data": {
            "text/plain": [
              "Id                 -0.211478\n",
              "BasePay             0.954494\n",
              "OvertimePay         0.504859\n",
              "TotalPay            1.000000\n",
              "TotalPayBenefits    0.977313\n",
              "Year                0.032090\n",
              "Name: TotalPay, dtype: float64"
            ]
          },
          "metadata": {},
          "execution_count": 47
        }
      ]
    },
    {
      "cell_type": "code",
      "metadata": {
        "id": "2Cxq8qE8d7Fi",
        "outputId": "2dcce7cb-bac6-4e07-a1ed-1137dd6c1f05",
        "colab": {
          "base_uri": "https://localhost:8080/"
        }
      },
      "source": [
        "#upar vale me Notes nhi hai kyuki upar humne Notes drop kiya tha lekin jab hum df vapis se sabse upar se run karenge tab Notes vala bhi ajayega"
      ],
      "execution_count": null,
      "outputs": [
        {
          "output_type": "execute_result",
          "data": {
            "text/plain": [
              "Id                 -0.211478\n",
              "BasePay             0.954494\n",
              "OvertimePay         0.504859\n",
              "Benefits            0.632202\n",
              "TotalPay            1.000000\n",
              "TotalPayBenefits    0.977313\n",
              "Year                0.032090\n",
              "Notes                    NaN\n",
              "Name: TotalPay, dtype: float64"
            ]
          },
          "metadata": {},
          "execution_count": 54
        }
      ]
    },
    {
      "cell_type": "markdown",
      "source": [
        "**use np.where and replace 'Not Provided' on Benefit column to `np.nan`, then fill all this nan value with 0**"
      ],
      "metadata": {
        "id": "Ni6aiUjNB4jW"
      }
    },
    {
      "cell_type": "code",
      "source": [
        "df['Benefits'].iloc[0] == np.nan"
      ],
      "metadata": {
        "colab": {
          "base_uri": "https://localhost:8080/"
        },
        "id": "ho8C8739TqjH",
        "outputId": "574a1c60-f825-4cc6-953a-55e5c234477e"
      },
      "execution_count": 149,
      "outputs": [
        {
          "output_type": "execute_result",
          "data": {
            "text/plain": [
              "False"
            ]
          },
          "metadata": {},
          "execution_count": 149
        }
      ]
    },
    {
      "cell_type": "code",
      "source": [
        "df['Benefits'] = np.where(df['Benefits'] == 'Not Provided',0,df['Benefits'])"
      ],
      "metadata": {
        "id": "WMxdw2j-ALva"
      },
      "execution_count": 150,
      "outputs": []
    },
    {
      "cell_type": "code",
      "source": [
        "df['Benefits'].fillna(0)"
      ],
      "metadata": {
        "colab": {
          "base_uri": "https://localhost:8080/"
        },
        "id": "e3kniPXiR0XC",
        "outputId": "852382ac-faa1-4584-ebfd-409749c7c743"
      },
      "execution_count": 151,
      "outputs": [
        {
          "output_type": "execute_result",
          "data": {
            "text/plain": [
              "0            0\n",
              "1            0\n",
              "2            0\n",
              "3            0\n",
              "4            0\n",
              "          ... \n",
              "148649    0.00\n",
              "148650       0\n",
              "148651       0\n",
              "148652       0\n",
              "148653    0.00\n",
              "Name: Benefits, Length: 148654, dtype: object"
            ]
          },
          "metadata": {},
          "execution_count": 151
        }
      ]
    },
    {
      "cell_type": "code",
      "source": [
        "df.info()"
      ],
      "metadata": {
        "id": "Irkh8azO_1mG",
        "outputId": "43860505-e2f2-4bb1-ffa8-e9cabc7e6d18",
        "colab": {
          "base_uri": "https://localhost:8080/"
        }
      },
      "execution_count": 152,
      "outputs": [
        {
          "output_type": "stream",
          "name": "stdout",
          "text": [
            "<class 'pandas.core.frame.DataFrame'>\n",
            "RangeIndex: 148654 entries, 0 to 148653\n",
            "Data columns (total 13 columns):\n",
            " #   Column            Non-Null Count   Dtype  \n",
            "---  ------            --------------   -----  \n",
            " 0   Id                148654 non-null  int64  \n",
            " 1   EmployeeName      148654 non-null  object \n",
            " 2   JobTitle          148654 non-null  object \n",
            " 3   BasePay           148049 non-null  object \n",
            " 4   OvertimePay       148654 non-null  object \n",
            " 5   OtherPay          148654 non-null  object \n",
            " 6   Benefits          112495 non-null  object \n",
            " 7   TotalPay          148654 non-null  float64\n",
            " 8   TotalPayBenefits  148654 non-null  float64\n",
            " 9   Year              148654 non-null  int64  \n",
            " 10  Notes             0 non-null       float64\n",
            " 11  Agency            148654 non-null  object \n",
            " 12  Status            38119 non-null   object \n",
            "dtypes: float64(3), int64(2), object(8)\n",
            "memory usage: 14.7+ MB\n"
          ]
        }
      ]
    },
    {
      "cell_type": "markdown",
      "source": [
        "**Now convert Benefit column to numeric type**"
      ],
      "metadata": {
        "id": "PQqQv-Y-DEYY"
      }
    },
    {
      "cell_type": "code",
      "source": [
        "type(df)"
      ],
      "metadata": {
        "colab": {
          "base_uri": "https://localhost:8080/"
        },
        "id": "uiWdNPomWF3R",
        "outputId": "ff248820-bc48-40c9-942e-82808d0ffeac"
      },
      "execution_count": 153,
      "outputs": [
        {
          "output_type": "execute_result",
          "data": {
            "text/plain": [
              "pandas.core.frame.DataFrame"
            ]
          },
          "metadata": {},
          "execution_count": 153
        }
      ]
    },
    {
      "cell_type": "code",
      "source": [
        "df['Benefits'] = pd.to_numeric(df['Benefits'])     "
      ],
      "metadata": {
        "id": "UClcZTE4DKqs"
      },
      "execution_count": 154,
      "outputs": []
    },
    {
      "cell_type": "code",
      "source": [
        "df.info()"
      ],
      "metadata": {
        "colab": {
          "base_uri": "https://localhost:8080/"
        },
        "id": "J-hhue6-Whmm",
        "outputId": "2af093d6-e087-49fd-bf13-1ad963353683"
      },
      "execution_count": 155,
      "outputs": [
        {
          "output_type": "stream",
          "name": "stdout",
          "text": [
            "<class 'pandas.core.frame.DataFrame'>\n",
            "RangeIndex: 148654 entries, 0 to 148653\n",
            "Data columns (total 13 columns):\n",
            " #   Column            Non-Null Count   Dtype  \n",
            "---  ------            --------------   -----  \n",
            " 0   Id                148654 non-null  int64  \n",
            " 1   EmployeeName      148654 non-null  object \n",
            " 2   JobTitle          148654 non-null  object \n",
            " 3   BasePay           148049 non-null  object \n",
            " 4   OvertimePay       148654 non-null  object \n",
            " 5   OtherPay          148654 non-null  object \n",
            " 6   Benefits          112495 non-null  float64\n",
            " 7   TotalPay          148654 non-null  float64\n",
            " 8   TotalPayBenefits  148654 non-null  float64\n",
            " 9   Year              148654 non-null  int64  \n",
            " 10  Notes             0 non-null       float64\n",
            " 11  Agency            148654 non-null  object \n",
            " 12  Status            38119 non-null   object \n",
            "dtypes: float64(4), int64(2), object(7)\n",
            "memory usage: 14.7+ MB\n"
          ]
        }
      ]
    }
  ]
}