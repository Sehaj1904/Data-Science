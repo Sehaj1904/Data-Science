{
  "nbformat": 4,
  "nbformat_minor": 0,
  "metadata": {
    "colab": {
      "name": "some topics of python.ipynb",
      "provenance": [],
      "collapsed_sections": [
        "9FrPVXEjMP54",
        "Q_SQYkcZELAE",
        "SixZ4UGJbxGz",
        "eQOqsQLIp97u",
        "is2prdenu4NN",
        "oXhlv54FwhX-",
        "8G3vj5XUydY3",
        "m3hKIjw_qHgI",
        "we-eFNVDyv4M",
        "0bUHc2Ey6CJn"
      ],
      "include_colab_link": true
    },
    "kernelspec": {
      "name": "python3",
      "display_name": "Python 3"
    },
    "language_info": {
      "name": "python"
    }
  },
  "cells": [
    {
      "cell_type": "markdown",
      "metadata": {
        "id": "view-in-github",
        "colab_type": "text"
      },
      "source": [
        "<a href=\"https://colab.research.google.com/github/Sehaj1904/Data-Science/blob/main/some_topics_of_python.ipynb\" target=\"_parent\"><img src=\"https://colab.research.google.com/assets/colab-badge.svg\" alt=\"Open In Colab\"/></a>"
      ]
    },
    {
      "cell_type": "markdown",
      "source": [
        "#start"
      ],
      "metadata": {
        "id": "9FrPVXEjMP54"
      }
    },
    {
      "cell_type": "code",
      "execution_count": null,
      "metadata": {
        "id": "xY67OQkXOSgk"
      },
      "outputs": [],
      "source": [
        "def printing(name):\n",
        "  \"\"\"this function will print.\"\"\"\n",
        "  print(name)"
      ]
    },
    {
      "cell_type": "code",
      "source": [
        "print(printing.__doc__)"
      ],
      "metadata": {
        "colab": {
          "base_uri": "https://localhost:8080/"
        },
        "id": "bLTyjGJCvWVv",
        "outputId": "f574dede-6eb3-4316-fd4e-04d48f08dd3d"
      },
      "execution_count": null,
      "outputs": [
        {
          "output_type": "stream",
          "name": "stdout",
          "text": [
            "this function will print.\n"
          ]
        }
      ]
    },
    {
      "cell_type": "code",
      "source": [
        "print(globals())"
      ],
      "metadata": {
        "colab": {
          "base_uri": "https://localhost:8080/"
        },
        "id": "SSSEZ8qrxWEg",
        "outputId": "f99dc3df-bfb4-4ead-f36d-dc292cae7352"
      },
      "execution_count": null,
      "outputs": [
        {
          "output_type": "stream",
          "name": "stdout",
          "text": [
            "{'__name__': '__main__', '__doc__': 'Automatically created module for IPython interactive environment', '__package__': None, '__loader__': None, '__spec__': None, '__builtin__': <module 'builtins' (built-in)>, '__builtins__': <module 'builtins' (built-in)>, '_ih': ['', 'def printing(name):', 'def printing(name):\\n  print(name)', 'print(printing.__doc__)', 'def printing(name):\\n  \"\"\"this function will print.\"\"\"\\n  print(name)', 'print(printing.__doc__)', 'print(globals())', 'print(global())', 'print(globals())'], '_oh': {}, '_dh': ['/content'], '_sh': <module 'IPython.core.shadowns' from '/usr/local/lib/python3.7/dist-packages/IPython/core/shadowns.py'>, 'In': ['', 'def printing(name):', 'def printing(name):\\n  print(name)', 'print(printing.__doc__)', 'def printing(name):\\n  \"\"\"this function will print.\"\"\"\\n  print(name)', 'print(printing.__doc__)', 'print(globals())', 'print(global())', 'print(globals())'], 'Out': {}, 'get_ipython': <bound method InteractiveShell.get_ipython of <google.colab._shell.Shell object at 0x7f6b3e440bd0>>, 'exit': <IPython.core.autocall.ZMQExitAutocall object at 0x7f6b3e1f3fd0>, 'quit': <IPython.core.autocall.ZMQExitAutocall object at 0x7f6b3e1f3fd0>, '_': '', '__': '', '___': '', '_i': 'print(global())', '_ii': 'print(globals())', '_iii': 'print(printing.__doc__)', '_i1': 'def printing(name):', '_i2': 'def printing(name):\\n  print(name)', 'printing': <function printing at 0x7f6b37c99830>, '_i3': 'print(printing.__doc__)', '_i4': 'def printing(name):\\n  \"\"\"this function will print.\"\"\"\\n  print(name)', '_i5': 'print(printing.__doc__)', '_i6': 'print(globals())', '_i7': 'print(global())', '_i8': 'print(globals())'}\n"
          ]
        }
      ]
    },
    {
      "cell_type": "code",
      "source": [
        "name = 'Ramanand'\n"
      ],
      "metadata": {
        "id": "2qBKGgs_xgYZ"
      },
      "execution_count": null,
      "outputs": []
    },
    {
      "cell_type": "code",
      "source": [
        "globals()['name']"
      ],
      "metadata": {
        "colab": {
          "base_uri": "https://localhost:8080/",
          "height": 35
        },
        "id": "q-7M29Axx_EK",
        "outputId": "64003ccc-0f21-423f-d777-4cd8965db099"
      },
      "execution_count": null,
      "outputs": [
        {
          "output_type": "execute_result",
          "data": {
            "application/vnd.google.colaboratory.intrinsic+json": {
              "type": "string"
            },
            "text/plain": [
              "'Ramu'"
            ]
          },
          "metadata": {},
          "execution_count": 17
        }
      ]
    },
    {
      "cell_type": "code",
      "source": [
        "add = (lambda a, b : a+b)"
      ],
      "metadata": {
        "id": "lFW0VJBgyPVU"
      },
      "execution_count": null,
      "outputs": []
    },
    {
      "cell_type": "code",
      "source": [
        ""
      ],
      "metadata": {
        "colab": {
          "base_uri": "https://localhost:8080/"
        },
        "id": "CXzISuKrz6Ft",
        "outputId": "9a4cba0d-e5a6-4f58-c61c-5df59a45e8bf"
      },
      "execution_count": null,
      "outputs": [
        {
          "output_type": "execute_result",
          "data": {
            "text/plain": [
              "58"
            ]
          },
          "metadata": {},
          "execution_count": 23
        }
      ]
    },
    {
      "cell_type": "code",
      "source": [
        "add2 = lambda x, y : x+y if x+y>0 else 0"
      ],
      "metadata": {
        "id": "9_zZ0HNN0gTs"
      },
      "execution_count": null,
      "outputs": []
    },
    {
      "cell_type": "code",
      "source": [
        "add2(-2, -56)"
      ],
      "metadata": {
        "colab": {
          "base_uri": "https://localhost:8080/"
        },
        "id": "Cbo0G9hV0qTz",
        "outputId": "367dc117-2b22-4e75-84f6-c901bc1d02ea"
      },
      "execution_count": null,
      "outputs": [
        {
          "output_type": "execute_result",
          "data": {
            "text/plain": [
              "0"
            ]
          },
          "metadata": {},
          "execution_count": 27
        }
      ]
    },
    {
      "cell_type": "code",
      "source": [
        "name = [('Abhi', 5), ('Ramanand', 21), ('Aman', 100)]"
      ],
      "metadata": {
        "id": "Rl6G2WbM1cvX"
      },
      "execution_count": null,
      "outputs": []
    },
    {
      "cell_type": "code",
      "source": [
        "sorted(name, key=lambda x : x[1])"
      ],
      "metadata": {
        "colab": {
          "base_uri": "https://localhost:8080/"
        },
        "id": "ssaPfGUe1coD",
        "outputId": "73a527bf-1252-4167-8d10-ef85d1d67ce2"
      },
      "execution_count": null,
      "outputs": [
        {
          "output_type": "execute_result",
          "data": {
            "text/plain": [
              "[('Abhi', 5), ('Sohit', 68), ('Aman', 100)]"
            ]
          },
          "metadata": {},
          "execution_count": 32
        }
      ]
    },
    {
      "cell_type": "markdown",
      "source": [
        "Positional Argument -> They are required in positional manner "
      ],
      "metadata": {
        "id": "kfgQmd_54jMW"
      }
    },
    {
      "cell_type": "code",
      "source": [
        "def intro(name, nationality):\n",
        "  \"\"\"this function will print nationality\"\"\"\n",
        "  print(\"Hi! i am \", name , \"and i am \", nationality)"
      ],
      "metadata": {
        "id": "mwR8gQ_L1ck8"
      },
      "execution_count": null,
      "outputs": []
    },
    {
      "cell_type": "code",
      "source": [
        "intro('Ramanand', 'Indian')"
      ],
      "metadata": {
        "colab": {
          "base_uri": "https://localhost:8080/"
        },
        "id": "mFYGoQV75AhV",
        "outputId": "f676b9fc-1775-4c69-acd9-825fe1730edd"
      },
      "execution_count": null,
      "outputs": [
        {
          "output_type": "stream",
          "name": "stdout",
          "text": [
            "Hi! i am  Ramanand and i am  Indian\n"
          ]
        }
      ]
    },
    {
      "cell_type": "code",
      "source": [
        "intro('John', 'American')"
      ],
      "metadata": {
        "colab": {
          "base_uri": "https://localhost:8080/"
        },
        "id": "91NjshN25GzY",
        "outputId": "f045e8dc-1caf-4e95-9312-958d1df1e1c8"
      },
      "execution_count": null,
      "outputs": [
        {
          "output_type": "stream",
          "name": "stdout",
          "text": [
            "Hi! i am  John and i am  American\n"
          ]
        }
      ]
    },
    {
      "cell_type": "markdown",
      "source": [
        "Default Argument \n",
        "\n",
        "  -parameters that have some default value. they are optional parameters\n",
        "  \n",
        "  -default parameters always comes after positional parameter"
      ],
      "metadata": {
        "id": "lancHrfx5ZdC"
      }
    },
    {
      "cell_type": "code",
      "source": [
        "def intro2(name, nationality='Indian'):\n",
        "  \"\"\"this is Defualt argument function\"\"\"\n",
        "  print(\"Hi, I am \", name, \"i am an \",nationality)"
      ],
      "metadata": {
        "id": "TNe2saAI6OVw"
      },
      "execution_count": null,
      "outputs": []
    },
    {
      "cell_type": "code",
      "source": [
        "intro2('Ramanand')"
      ],
      "metadata": {
        "colab": {
          "base_uri": "https://localhost:8080/"
        },
        "id": "siRV8AKo6OSa",
        "outputId": "c85316fa-c7bb-47f5-e9d8-baef167a360d"
      },
      "execution_count": null,
      "outputs": [
        {
          "output_type": "stream",
          "name": "stdout",
          "text": [
            "Hi, I am  Ramanand i am an  Indian\n"
          ]
        }
      ]
    },
    {
      "cell_type": "code",
      "source": [
        "intro2('Jhon', 'American')"
      ],
      "metadata": {
        "colab": {
          "base_uri": "https://localhost:8080/"
        },
        "id": "HdY3u7856OPk",
        "outputId": "d89dc52c-eec1-403e-ffd3-dc27abb63f6a"
      },
      "execution_count": null,
      "outputs": [
        {
          "output_type": "stream",
          "name": "stdout",
          "text": [
            "Hi, I am  Jhon i am an  American\n"
          ]
        }
      ]
    },
    {
      "cell_type": "markdown",
      "source": [
        "Arbitary Arguments \n",
        "\n",
        "  - It can reveive any number of arguments and stores them in a tuple "
      ],
      "metadata": {
        "id": "ZEjxlkUg6yiT"
      }
    },
    {
      "cell_type": "code",
      "source": [
        "def args_func( *args):\n",
        "  \"\"\"Arbitary Arguments \"\"\"\n",
        "  print(type(args), args)\n",
        "  for i in args:\n",
        "    print(i*2)"
      ],
      "metadata": {
        "id": "32K3xpem7nLj"
      },
      "execution_count": null,
      "outputs": []
    },
    {
      "cell_type": "code",
      "source": [
        "args_func('Ramu',True,4, 6, 8, 2, 1,6,3,2,5,6,4,2,4)"
      ],
      "metadata": {
        "id": "bnB2ls2O6ONp"
      },
      "execution_count": null,
      "outputs": []
    },
    {
      "cell_type": "markdown",
      "source": [
        "Keyword arguments (**kwargs)\n",
        "\n",
        "  it also takes any number of arguments and stores in form of dictionary \n",
        "\n",
        "  parameters name is mandatory while calling function\n",
        "  "
      ],
      "metadata": {
        "id": "yNe2Uabb8X0I"
      }
    },
    {
      "cell_type": "code",
      "source": [
        "def introduction( **kwargs):\n",
        "  \"\"\"kwargs\"\"\"\n",
        "  print(kwargs)\n",
        "  print(type(kwargs))\n"
      ],
      "metadata": {
        "id": "eblisiBN6OLW"
      },
      "execution_count": null,
      "outputs": []
    },
    {
      "cell_type": "code",
      "source": [
        "introduction(name='Ramanand', age=22, nationality='Indian')"
      ],
      "metadata": {
        "colab": {
          "base_uri": "https://localhost:8080/"
        },
        "id": "zzISTmcj6OIl",
        "outputId": "8347a810-7983-422a-866b-10ec28a16844"
      },
      "execution_count": null,
      "outputs": [
        {
          "output_type": "stream",
          "name": "stdout",
          "text": [
            "{'name': 'Ramanand', 'age': 22, 'nationality': 'Indian'}\n",
            "<class 'dict'>\n"
          ]
        }
      ]
    },
    {
      "cell_type": "code",
      "source": [
        "def combination(a, b, c, age=18, *args, **kwargs):\n",
        "  # postinational , default, argse , kwargs \n",
        "  \"\"\"combination of all argument \"\"\"\n",
        "  print(a, b, c, age)\n",
        "  print(args)\n",
        "  print(kwargs)"
      ],
      "metadata": {
        "id": "Vn6v-zTL9NFB"
      },
      "execution_count": null,
      "outputs": []
    },
    {
      "cell_type": "code",
      "source": [
        "combination(100, 200, 300, 400, 500, 600, x=8, y=99, z= 0.0)"
      ],
      "metadata": {
        "colab": {
          "base_uri": "https://localhost:8080/"
        },
        "id": "TsD8cp0h9M_G",
        "outputId": "3aebf667-e20f-4c5e-90a5-9f42ac3d34e3"
      },
      "execution_count": null,
      "outputs": [
        {
          "output_type": "stream",
          "name": "stdout",
          "text": [
            "100 200 300 400\n",
            "(500, 600)\n",
            "{'x': 8, 'y': 99, 'z': 0.0}\n"
          ]
        }
      ]
    },
    {
      "cell_type": "code",
      "source": [
        "l = range(100)"
      ],
      "metadata": {
        "id": "oRDYyKKL9M77"
      },
      "execution_count": null,
      "outputs": []
    },
    {
      "cell_type": "code",
      "source": [
        "def foo(i, x=[]):\n",
        "  x.append(i)\n",
        "  return x"
      ],
      "metadata": {
        "id": "-WliJMD_A6xR"
      },
      "execution_count": null,
      "outputs": []
    },
    {
      "cell_type": "code",
      "source": [
        "for i in range(3):\n",
        "  print(foo(i), end=\" \")"
      ],
      "metadata": {
        "colab": {
          "base_uri": "https://localhost:8080/"
        },
        "id": "EP_gTZC6ATNh",
        "outputId": "4303ee6a-6e1f-4db5-a531-1871e27f97a2"
      },
      "execution_count": null,
      "outputs": [
        {
          "output_type": "stream",
          "name": "stdout",
          "text": [
            "[0] [0, 1] [0, 1, 2] "
          ]
        }
      ]
    },
    {
      "cell_type": "code",
      "source": [
        "def foo1(x):\n",
        "  x[0] = ['def']\n",
        "  x[1] = ['abc']\n",
        "  return id(x)"
      ],
      "metadata": {
        "id": "5Wn3_qmKAa09"
      },
      "execution_count": null,
      "outputs": []
    },
    {
      "cell_type": "code",
      "source": [
        "q = ['abc', 'def']\n",
        "print(id(q)==foo1(q))"
      ],
      "metadata": {
        "colab": {
          "base_uri": "https://localhost:8080/"
        },
        "id": "djqfV5aLB8Qe",
        "outputId": "447a3a25-edbb-40f8-9797-7a705041b8eb"
      },
      "execution_count": null,
      "outputs": [
        {
          "output_type": "stream",
          "name": "stdout",
          "text": [
            "True\n"
          ]
        }
      ]
    },
    {
      "cell_type": "code",
      "source": [
        "print(id(q))"
      ],
      "metadata": {
        "colab": {
          "base_uri": "https://localhost:8080/"
        },
        "id": "8uS7L2NDCGJm",
        "outputId": "fc095872-c3be-43db-9901-3b2d11e9815a"
      },
      "execution_count": null,
      "outputs": [
        {
          "output_type": "stream",
          "name": "stdout",
          "text": [
            "140098350859760\n"
          ]
        }
      ]
    },
    {
      "cell_type": "markdown",
      "source": [
        "all() returns\n",
        "\n",
        "  -True :if all elements in an iterable are true\n",
        "\n",
        "  -False: if any element in an iterable is false\n"
      ],
      "metadata": {
        "id": "Ks0FX0-z90ls"
      }
    },
    {
      "cell_type": "code",
      "source": [
        "lst = [1,2,3,4]\n",
        "all(lst)"
      ],
      "metadata": {
        "id": "1ws2DgSbCvod",
        "colab": {
          "base_uri": "https://localhost:8080/"
        },
        "outputId": "b9acc09b-dfcb-4d31-9d27-d79133baee5d"
      },
      "execution_count": null,
      "outputs": [
        {
          "output_type": "execute_result",
          "data": {
            "text/plain": [
              "True"
            ]
          },
          "metadata": {},
          "execution_count": 1
        }
      ]
    },
    {
      "cell_type": "code",
      "source": [
        "tup = (0, 2,6,7)\n",
        "all(tup)"
      ],
      "metadata": {
        "colab": {
          "base_uri": "https://localhost:8080/"
        },
        "id": "B7jO6GUF-J2t",
        "outputId": "7e1c5b81-af4f-484a-aec9-9ba48ff35129"
      },
      "execution_count": null,
      "outputs": [
        {
          "output_type": "execute_result",
          "data": {
            "text/plain": [
              "False"
            ]
          },
          "metadata": {},
          "execution_count": 2
        }
      ]
    },
    {
      "cell_type": "markdown",
      "source": [
        "any() returns\n",
        "\n",
        "  -True: if any of the element in an iterable is true \n",
        "\n",
        "  -False : otherwise\n",
        "  "
      ],
      "metadata": {
        "id": "p-R71BKU-Ss_"
      }
    },
    {
      "cell_type": "code",
      "source": [
        "las = [False, 0, -1]\n",
        "any(las)"
      ],
      "metadata": {
        "colab": {
          "base_uri": "https://localhost:8080/"
        },
        "id": "dkEIa57I-OxH",
        "outputId": "9cde2b7a-9363-4a7f-8bb0-8ab414493405"
      },
      "execution_count": null,
      "outputs": [
        {
          "output_type": "execute_result",
          "data": {
            "text/plain": [
              "True"
            ]
          },
          "metadata": {},
          "execution_count": 3
        }
      ]
    },
    {
      "cell_type": "markdown",
      "source": [
        "dir() - Displays all the function associated with an object"
      ],
      "metadata": {
        "id": "kuAAh3W2-zaW"
      }
    },
    {
      "cell_type": "code",
      "source": [
        "dir(lst)"
      ],
      "metadata": {
        "colab": {
          "base_uri": "https://localhost:8080/"
        },
        "id": "-Ttb6zs2-7ZZ",
        "outputId": "27c38647-58ff-4943-c002-cd3884fd51c2"
      },
      "execution_count": null,
      "outputs": [
        {
          "output_type": "execute_result",
          "data": {
            "text/plain": [
              "['__add__',\n",
              " '__class__',\n",
              " '__contains__',\n",
              " '__delattr__',\n",
              " '__delitem__',\n",
              " '__dir__',\n",
              " '__doc__',\n",
              " '__eq__',\n",
              " '__format__',\n",
              " '__ge__',\n",
              " '__getattribute__',\n",
              " '__getitem__',\n",
              " '__gt__',\n",
              " '__hash__',\n",
              " '__iadd__',\n",
              " '__imul__',\n",
              " '__init__',\n",
              " '__init_subclass__',\n",
              " '__iter__',\n",
              " '__le__',\n",
              " '__len__',\n",
              " '__lt__',\n",
              " '__mul__',\n",
              " '__ne__',\n",
              " '__new__',\n",
              " '__reduce__',\n",
              " '__reduce_ex__',\n",
              " '__repr__',\n",
              " '__reversed__',\n",
              " '__rmul__',\n",
              " '__setattr__',\n",
              " '__setitem__',\n",
              " '__sizeof__',\n",
              " '__str__',\n",
              " '__subclasshook__',\n",
              " 'append',\n",
              " 'clear',\n",
              " 'copy',\n",
              " 'count',\n",
              " 'extend',\n",
              " 'index',\n",
              " 'insert',\n",
              " 'pop',\n",
              " 'remove',\n",
              " 'reverse',\n",
              " 'sort']"
            ]
          },
          "metadata": {},
          "execution_count": 4
        }
      ]
    },
    {
      "cell_type": "markdown",
      "source": [
        "enumerate() - enumerate() method adds a counter to an iterable and returns it in a form of enumerate object"
      ],
      "metadata": {
        "id": "8okq0cOH_Gm0"
      }
    },
    {
      "cell_type": "code",
      "source": [
        "fruits = ['apple', 'bnana', 'grapes', 'mango']"
      ],
      "metadata": {
        "id": "_oTwj1GV-l1I"
      },
      "execution_count": null,
      "outputs": []
    },
    {
      "cell_type": "code",
      "source": [
        "for ele in fruits:\n",
        "  print(ele)"
      ],
      "metadata": {
        "colab": {
          "base_uri": "https://localhost:8080/"
        },
        "id": "S2Bdv23J_Bp4",
        "outputId": "46286753-a89f-4f22-d4fd-bf7cc0a48937"
      },
      "execution_count": null,
      "outputs": [
        {
          "output_type": "stream",
          "name": "stdout",
          "text": [
            "apple\n",
            "bnana\n",
            "grapes\n",
            "mango\n"
          ]
        }
      ]
    },
    {
      "cell_type": "code",
      "source": [
        "for idx, ele in enumerate(fruits):\n",
        "  print(idx, ele)"
      ],
      "metadata": {
        "colab": {
          "base_uri": "https://localhost:8080/"
        },
        "id": "76_7QHYi_CPg",
        "outputId": "54769c17-9ae5-4061-8fcd-b4051e006ac5"
      },
      "execution_count": null,
      "outputs": [
        {
          "output_type": "stream",
          "name": "stdout",
          "text": [
            "0 apple\n",
            "1 bnana\n",
            "2 grapes\n",
            "3 mango\n"
          ]
        }
      ]
    },
    {
      "cell_type": "markdown",
      "source": [
        "Aggregation funcitons "
      ],
      "metadata": {
        "id": "KPNFaUmr_psX"
      }
    },
    {
      "cell_type": "code",
      "source": [
        "lst = [2,5,71,6,84,9]"
      ],
      "metadata": {
        "id": "S3lyotfU_Cn8"
      },
      "execution_count": null,
      "outputs": []
    },
    {
      "cell_type": "code",
      "source": [
        "sum(lst), max(lst), min(lst), sum(lst)/len(lst)"
      ],
      "metadata": {
        "colab": {
          "base_uri": "https://localhost:8080/"
        },
        "id": "PC21d_Pk_DE3",
        "outputId": "438f97ac-a52b-423d-cdad-cba6f59190da"
      },
      "execution_count": null,
      "outputs": [
        {
          "output_type": "execute_result",
          "data": {
            "text/plain": [
              "(177, 84, 2, 29.5)"
            ]
          },
          "metadata": {},
          "execution_count": 11
        }
      ]
    },
    {
      "cell_type": "markdown",
      "source": [
        "Map : map applies a funcitons to all the items of an iterable "
      ],
      "metadata": {
        "id": "onyHERtH_9Gg"
      }
    },
    {
      "cell_type": "code",
      "source": [
        "def add_one(x):\n",
        "  return x+1"
      ],
      "metadata": {
        "id": "-g7CjsP4_DVv"
      },
      "execution_count": null,
      "outputs": []
    },
    {
      "cell_type": "code",
      "source": [
        "add_one(100)"
      ],
      "metadata": {
        "colab": {
          "base_uri": "https://localhost:8080/"
        },
        "id": "tvVnHgmr_DiA",
        "outputId": "43ac8087-ad7d-43e7-a31b-092a46a414c1"
      },
      "execution_count": null,
      "outputs": [
        {
          "output_type": "execute_result",
          "data": {
            "text/plain": [
              "101"
            ]
          },
          "metadata": {},
          "execution_count": 14
        }
      ]
    },
    {
      "cell_type": "code",
      "source": [
        "map_ele = map(add_one, lst)"
      ],
      "metadata": {
        "id": "mZ-ThLHUAFY5"
      },
      "execution_count": null,
      "outputs": []
    },
    {
      "cell_type": "code",
      "source": [
        "list(map_ele)"
      ],
      "metadata": {
        "colab": {
          "base_uri": "https://localhost:8080/"
        },
        "id": "VCNuAS4iAFWg",
        "outputId": "6314bea1-56e6-4b51-f3e3-6fbbf6efc4d8"
      },
      "execution_count": null,
      "outputs": [
        {
          "output_type": "execute_result",
          "data": {
            "text/plain": [
              "[3, 6, 72, 7, 85, 10]"
            ]
          },
          "metadata": {},
          "execution_count": 17
        }
      ]
    },
    {
      "cell_type": "code",
      "source": [
        "list(map(lambda x : x+1, lst))"
      ],
      "metadata": {
        "colab": {
          "base_uri": "https://localhost:8080/"
        },
        "id": "ptQ6vadTAFUo",
        "outputId": "dfc39900-1c75-4a13-cfa6-179a538001ed"
      },
      "execution_count": null,
      "outputs": [
        {
          "output_type": "execute_result",
          "data": {
            "text/plain": [
              "[3, 6, 72, 7, 85, 10]"
            ]
          },
          "metadata": {},
          "execution_count": 18
        }
      ]
    },
    {
      "cell_type": "markdown",
      "source": [
        "Filter : the filter method contruct an iterator from elements of an iterable for which a function return a function returns true "
      ],
      "metadata": {
        "id": "f6UxY1ydAw8V"
      }
    },
    {
      "cell_type": "code",
      "source": [
        "print(lst)"
      ],
      "metadata": {
        "colab": {
          "base_uri": "https://localhost:8080/"
        },
        "id": "hEZponyEAFSS",
        "outputId": "4ccd2022-64be-494a-cce8-75052e6cf1fa"
      },
      "execution_count": null,
      "outputs": [
        {
          "output_type": "stream",
          "name": "stdout",
          "text": [
            "[2, 5, 71, 6, 84, 9]\n"
          ]
        }
      ]
    },
    {
      "cell_type": "code",
      "source": [
        "def is_even(x):\n",
        "  return x%2==0\n"
      ],
      "metadata": {
        "id": "v8G5eCOgAFQP"
      },
      "execution_count": null,
      "outputs": []
    },
    {
      "cell_type": "code",
      "source": [
        "filter_ele = filter(is_even , lst)"
      ],
      "metadata": {
        "id": "4SCbYo6_AFOG"
      },
      "execution_count": null,
      "outputs": []
    },
    {
      "cell_type": "code",
      "source": [
        "list(filter_ele)"
      ],
      "metadata": {
        "colab": {
          "base_uri": "https://localhost:8080/"
        },
        "id": "LWH48LiJAFMP",
        "outputId": "005b200a-dc34-4b0b-9a42-6dc44fc22a47"
      },
      "execution_count": null,
      "outputs": [
        {
          "output_type": "execute_result",
          "data": {
            "text/plain": [
              "[2, 6, 84]"
            ]
          },
          "metadata": {},
          "execution_count": 23
        }
      ]
    },
    {
      "cell_type": "code",
      "source": [
        "filter_ele = filter(lambda x : x%2==0, lst)\n",
        "list(filter_ele)"
      ],
      "metadata": {
        "colab": {
          "base_uri": "https://localhost:8080/"
        },
        "id": "6DtDb9RPAFJ8",
        "outputId": "3252c9e4-4c33-4b9a-b45f-05a892a36a95"
      },
      "execution_count": null,
      "outputs": [
        {
          "output_type": "execute_result",
          "data": {
            "text/plain": [
              "[2, 6, 84]"
            ]
          },
          "metadata": {},
          "execution_count": 25
        }
      ]
    },
    {
      "cell_type": "markdown",
      "source": [
        "Reduce ;\n",
        "\n",
        "  - reduce() functions is for performing some computations on a list ans returning the results \n",
        "\n",
        "  - It applies a rolling computations to sequential pairs of values in a list"
      ],
      "metadata": {
        "id": "4W87Dpr_BuNj"
      }
    },
    {
      "cell_type": "code",
      "source": [
        "# product of element in a list\n",
        "lst = [1,4,7,8,3,2]\n",
        "# traditional way \n",
        "product = 1\n",
        "for num in lst:\n",
        "  product *= num\n",
        "print(product)"
      ],
      "metadata": {
        "colab": {
          "base_uri": "https://localhost:8080/"
        },
        "id": "z_fxPcIPAFHn",
        "outputId": "87b6e2a1-5ce2-47b3-81ed-519a3c5e32ec"
      },
      "execution_count": null,
      "outputs": [
        {
          "output_type": "stream",
          "name": "stdout",
          "text": [
            "1344\n"
          ]
        }
      ]
    },
    {
      "cell_type": "code",
      "source": [
        "from functools import reduce"
      ],
      "metadata": {
        "id": "qx19nSfFAFEi"
      },
      "execution_count": null,
      "outputs": []
    },
    {
      "cell_type": "code",
      "source": [
        "def mul(x, y):\n",
        "  return x*y\n",
        "  "
      ],
      "metadata": {
        "id": "R80YPEvCAE_X"
      },
      "execution_count": null,
      "outputs": []
    },
    {
      "cell_type": "code",
      "source": [
        "reduce(mul, lst)"
      ],
      "metadata": {
        "colab": {
          "base_uri": "https://localhost:8080/"
        },
        "id": "mLx3D-xKCnSh",
        "outputId": "cfb862dd-f054-42bd-cea0-45b295d10409"
      },
      "execution_count": null,
      "outputs": [
        {
          "output_type": "execute_result",
          "data": {
            "text/plain": [
              "1344"
            ]
          },
          "metadata": {},
          "execution_count": 31
        }
      ]
    },
    {
      "cell_type": "code",
      "source": [
        "ans = reduce(mul, lst)\n",
        "print(ans)"
      ],
      "metadata": {
        "colab": {
          "base_uri": "https://localhost:8080/"
        },
        "id": "-sxMxJHtCnVH",
        "outputId": "b9370bf2-c8e5-44fc-e8ce-592724ec26c3"
      },
      "execution_count": null,
      "outputs": [
        {
          "output_type": "stream",
          "name": "stdout",
          "text": [
            "1344\n"
          ]
        }
      ]
    },
    {
      "cell_type": "code",
      "source": [
        "ans = reduce(lambda x, y : x*y , lst)\n",
        "print(ans)"
      ],
      "metadata": {
        "colab": {
          "base_uri": "https://localhost:8080/"
        },
        "id": "NXZU2CvQCnXX",
        "outputId": "0b4524f5-d534-4a40-a9b0-8b87f4dd3556"
      },
      "execution_count": null,
      "outputs": [
        {
          "output_type": "stream",
          "name": "stdout",
          "text": [
            "1344\n"
          ]
        }
      ]
    },
    {
      "cell_type": "code",
      "source": [
        "x= 3\n",
        "eval('x^2')"
      ],
      "metadata": {
        "colab": {
          "base_uri": "https://localhost:8080/"
        },
        "id": "lUVp3Z6ICnZ9",
        "outputId": "a784628a-5d2b-4a0e-b92a-7a205c1b744d"
      },
      "execution_count": null,
      "outputs": [
        {
          "output_type": "execute_result",
          "data": {
            "text/plain": [
              "1"
            ]
          },
          "metadata": {},
          "execution_count": 35
        }
      ]
    },
    {
      "cell_type": "markdown",
      "source": [
        "#Modules\n",
        "\n",
        "*  Module refer to a file containing \n",
        "python code.\n",
        "\n",
        "*  Modules are used to break down large program into small managable and organised files [modular code].\n",
        "\n",
        "*  for e.g. : if a file prety.py is called a module and its module name would be 'pretty'\n",
        "\n",
        "  **Inbuilt Modules**\n",
        "\n",
        "  -os\n",
        "\n",
        "  -math\n",
        "\n",
        "  -random\n",
        "\n",
        "  -sys\n",
        "\n",
        "  -datetime\n",
        "\n",
        "  **custome module**"
      ],
      "metadata": {
        "id": "Q_SQYkcZELAE"
      }
    },
    {
      "cell_type": "code",
      "source": [
        "import math\n",
        "print(dir(math))"
      ],
      "metadata": {
        "colab": {
          "base_uri": "https://localhost:8080/"
        },
        "id": "AKrUqPcaCndD",
        "outputId": "b86ecba6-3a6e-47ba-9043-78f6c89a8ad3"
      },
      "execution_count": null,
      "outputs": [
        {
          "output_type": "stream",
          "name": "stdout",
          "text": [
            "['__doc__', '__loader__', '__name__', '__package__', '__spec__', 'acos', 'acosh', 'asin', 'asinh', 'atan', 'atan2', 'atanh', 'ceil', 'copysign', 'cos', 'cosh', 'degrees', 'e', 'erf', 'erfc', 'exp', 'expm1', 'fabs', 'factorial', 'floor', 'fmod', 'frexp', 'fsum', 'gamma', 'gcd', 'hypot', 'inf', 'isclose', 'isfinite', 'isinf', 'isnan', 'ldexp', 'lgamma', 'log', 'log10', 'log1p', 'log2', 'modf', 'nan', 'pi', 'pow', 'radians', 'remainder', 'sin', 'sinh', 'sqrt', 'tan', 'tanh', 'tau', 'trunc']\n"
          ]
        }
      ]
    },
    {
      "cell_type": "code",
      "source": [
        "math.pi"
      ],
      "metadata": {
        "colab": {
          "base_uri": "https://localhost:8080/"
        },
        "id": "OvPoXRfxCniE",
        "outputId": "55e5db1b-b1da-4e12-9b02-f8b8661b557a"
      },
      "execution_count": null,
      "outputs": [
        {
          "output_type": "execute_result",
          "data": {
            "text/plain": [
              "3.141592653589793"
            ]
          },
          "metadata": {},
          "execution_count": 39
        }
      ]
    },
    {
      "cell_type": "code",
      "source": [
        "math.pow(3, 2)"
      ],
      "metadata": {
        "colab": {
          "base_uri": "https://localhost:8080/"
        },
        "id": "u4NDWtHECnkg",
        "outputId": "79b3d557-6e60-4c13-d7c8-dcbb2ef94743"
      },
      "execution_count": null,
      "outputs": [
        {
          "output_type": "execute_result",
          "data": {
            "text/plain": [
              "9.0"
            ]
          },
          "metadata": {},
          "execution_count": 40
        }
      ]
    },
    {
      "cell_type": "code",
      "source": [
        "math.factorial(5)"
      ],
      "metadata": {
        "colab": {
          "base_uri": "https://localhost:8080/"
        },
        "id": "v-Ek4bKnCnml",
        "outputId": "7a4d010e-2b21-4314-a791-ced98dcd826d"
      },
      "execution_count": null,
      "outputs": [
        {
          "output_type": "execute_result",
          "data": {
            "text/plain": [
              "120"
            ]
          },
          "metadata": {},
          "execution_count": 41
        }
      ]
    },
    {
      "cell_type": "code",
      "source": [
        "math.ceil(6.7)"
      ],
      "metadata": {
        "colab": {
          "base_uri": "https://localhost:8080/"
        },
        "id": "9vf5EsyTCnos",
        "outputId": "706d9e63-96cd-4e7c-d8ed-3e3d21e0d806"
      },
      "execution_count": null,
      "outputs": [
        {
          "output_type": "execute_result",
          "data": {
            "text/plain": [
              "7"
            ]
          },
          "metadata": {},
          "execution_count": 42
        }
      ]
    },
    {
      "cell_type": "code",
      "source": [
        "import random\n",
        "print(dir(random))"
      ],
      "metadata": {
        "colab": {
          "base_uri": "https://localhost:8080/"
        },
        "id": "hVL_BhR3CnsN",
        "outputId": "f6ab564b-d58b-4f6b-8bd7-13223c4263e5"
      },
      "execution_count": null,
      "outputs": [
        {
          "output_type": "stream",
          "name": "stdout",
          "text": [
            "['BPF', 'LOG4', 'NV_MAGICCONST', 'RECIP_BPF', 'Random', 'SG_MAGICCONST', 'SystemRandom', 'TWOPI', '_BuiltinMethodType', '_MethodType', '_Sequence', '_Set', '__all__', '__builtins__', '__cached__', '__doc__', '__file__', '__loader__', '__name__', '__package__', '__spec__', '_acos', '_bisect', '_ceil', '_cos', '_e', '_exp', '_inst', '_itertools', '_log', '_os', '_pi', '_random', '_sha512', '_sin', '_sqrt', '_test', '_test_generator', '_urandom', '_warn', 'betavariate', 'choice', 'choices', 'expovariate', 'gammavariate', 'gauss', 'getrandbits', 'getstate', 'lognormvariate', 'normalvariate', 'paretovariate', 'randint', 'random', 'randrange', 'sample', 'seed', 'setstate', 'shuffle', 'triangular', 'uniform', 'vonmisesvariate', 'weibullvariate']\n"
          ]
        }
      ]
    },
    {
      "cell_type": "code",
      "source": [
        "random.randint(10, 39)"
      ],
      "metadata": {
        "colab": {
          "base_uri": "https://localhost:8080/"
        },
        "id": "74IQUV3tCnvz",
        "outputId": "ed2de068-6a66-4b09-a1c2-b3250447c180"
      },
      "execution_count": null,
      "outputs": [
        {
          "output_type": "execute_result",
          "data": {
            "text/plain": [
              "28"
            ]
          },
          "metadata": {},
          "execution_count": 44
        }
      ]
    },
    {
      "cell_type": "code",
      "source": [
        "round(random.random()*50)"
      ],
      "metadata": {
        "colab": {
          "base_uri": "https://localhost:8080/"
        },
        "id": "uLDR9WezHEVd",
        "outputId": "b2f57816-f238-4ee6-9ecb-aa2ee463bdf1"
      },
      "execution_count": null,
      "outputs": [
        {
          "output_type": "execute_result",
          "data": {
            "text/plain": [
              "47"
            ]
          },
          "metadata": {},
          "execution_count": 48
        }
      ]
    },
    {
      "cell_type": "code",
      "source": [
        "import os \n",
        "print(dir(os))"
      ],
      "metadata": {
        "colab": {
          "base_uri": "https://localhost:8080/"
        },
        "id": "_BB0eRLlHEX3",
        "outputId": "a0ab78ab-d254-459b-d715-e49e842d2302"
      },
      "execution_count": null,
      "outputs": [
        {
          "output_type": "stream",
          "name": "stdout",
          "text": [
            "['CLD_CONTINUED', 'CLD_DUMPED', 'CLD_EXITED', 'CLD_TRAPPED', 'DirEntry', 'EX_CANTCREAT', 'EX_CONFIG', 'EX_DATAERR', 'EX_IOERR', 'EX_NOHOST', 'EX_NOINPUT', 'EX_NOPERM', 'EX_NOUSER', 'EX_OK', 'EX_OSERR', 'EX_OSFILE', 'EX_PROTOCOL', 'EX_SOFTWARE', 'EX_TEMPFAIL', 'EX_UNAVAILABLE', 'EX_USAGE', 'F_LOCK', 'F_OK', 'F_TEST', 'F_TLOCK', 'F_ULOCK', 'GRND_NONBLOCK', 'GRND_RANDOM', 'MutableMapping', 'NGROUPS_MAX', 'O_ACCMODE', 'O_APPEND', 'O_ASYNC', 'O_CLOEXEC', 'O_CREAT', 'O_DIRECT', 'O_DIRECTORY', 'O_DSYNC', 'O_EXCL', 'O_LARGEFILE', 'O_NDELAY', 'O_NOATIME', 'O_NOCTTY', 'O_NOFOLLOW', 'O_NONBLOCK', 'O_PATH', 'O_RDONLY', 'O_RDWR', 'O_RSYNC', 'O_SYNC', 'O_TMPFILE', 'O_TRUNC', 'O_WRONLY', 'POSIX_FADV_DONTNEED', 'POSIX_FADV_NOREUSE', 'POSIX_FADV_NORMAL', 'POSIX_FADV_RANDOM', 'POSIX_FADV_SEQUENTIAL', 'POSIX_FADV_WILLNEED', 'PRIO_PGRP', 'PRIO_PROCESS', 'PRIO_USER', 'P_ALL', 'P_NOWAIT', 'P_NOWAITO', 'P_PGID', 'P_PID', 'P_WAIT', 'PathLike', 'RTLD_DEEPBIND', 'RTLD_GLOBAL', 'RTLD_LAZY', 'RTLD_LOCAL', 'RTLD_NODELETE', 'RTLD_NOLOAD', 'RTLD_NOW', 'RWF_DSYNC', 'RWF_HIPRI', 'RWF_NOWAIT', 'RWF_SYNC', 'R_OK', 'SCHED_BATCH', 'SCHED_FIFO', 'SCHED_IDLE', 'SCHED_OTHER', 'SCHED_RESET_ON_FORK', 'SCHED_RR', 'SEEK_CUR', 'SEEK_DATA', 'SEEK_END', 'SEEK_HOLE', 'SEEK_SET', 'ST_APPEND', 'ST_MANDLOCK', 'ST_NOATIME', 'ST_NODEV', 'ST_NODIRATIME', 'ST_NOEXEC', 'ST_NOSUID', 'ST_RDONLY', 'ST_RELATIME', 'ST_SYNCHRONOUS', 'ST_WRITE', 'TMP_MAX', 'WCONTINUED', 'WCOREDUMP', 'WEXITED', 'WEXITSTATUS', 'WIFCONTINUED', 'WIFEXITED', 'WIFSIGNALED', 'WIFSTOPPED', 'WNOHANG', 'WNOWAIT', 'WSTOPPED', 'WSTOPSIG', 'WTERMSIG', 'WUNTRACED', 'W_OK', 'XATTR_CREATE', 'XATTR_REPLACE', 'XATTR_SIZE_MAX', 'X_OK', '_Environ', '__all__', '__builtins__', '__cached__', '__doc__', '__file__', '__loader__', '__name__', '__package__', '__spec__', '_check_methods', '_execvpe', '_exists', '_exit', '_fspath', '_fwalk', '_get_exports_list', '_putenv', '_spawnvef', '_unsetenv', '_wrap_close', 'abc', 'abort', 'access', 'altsep', 'chdir', 'chmod', 'chown', 'chroot', 'close', 'closerange', 'confstr', 'confstr_names', 'cpu_count', 'ctermid', 'curdir', 'defpath', 'device_encoding', 'devnull', 'dup', 'dup2', 'environ', 'environb', 'error', 'execl', 'execle', 'execlp', 'execlpe', 'execv', 'execve', 'execvp', 'execvpe', 'extsep', 'fchdir', 'fchmod', 'fchown', 'fdatasync', 'fdopen', 'fork', 'forkpty', 'fpathconf', 'fsdecode', 'fsencode', 'fspath', 'fstat', 'fstatvfs', 'fsync', 'ftruncate', 'fwalk', 'get_blocking', 'get_exec_path', 'get_inheritable', 'get_terminal_size', 'getcwd', 'getcwdb', 'getegid', 'getenv', 'getenvb', 'geteuid', 'getgid', 'getgrouplist', 'getgroups', 'getloadavg', 'getlogin', 'getpgid', 'getpgrp', 'getpid', 'getppid', 'getpriority', 'getrandom', 'getresgid', 'getresuid', 'getsid', 'getuid', 'getxattr', 'initgroups', 'isatty', 'kill', 'killpg', 'lchown', 'linesep', 'link', 'listdir', 'listxattr', 'lockf', 'lseek', 'lstat', 'major', 'makedev', 'makedirs', 'minor', 'mkdir', 'mkfifo', 'mknod', 'name', 'nice', 'open', 'openpty', 'pardir', 'path', 'pathconf', 'pathconf_names', 'pathsep', 'pipe', 'pipe2', 'popen', 'posix_fadvise', 'posix_fallocate', 'pread', 'preadv', 'putenv', 'pwrite', 'pwritev', 'read', 'readlink', 'readv', 'register_at_fork', 'remove', 'removedirs', 'removexattr', 'rename', 'renames', 'replace', 'rmdir', 'scandir', 'sched_get_priority_max', 'sched_get_priority_min', 'sched_getaffinity', 'sched_getparam', 'sched_getscheduler', 'sched_param', 'sched_rr_get_interval', 'sched_setaffinity', 'sched_setparam', 'sched_setscheduler', 'sched_yield', 'sendfile', 'sep', 'set_blocking', 'set_inheritable', 'setegid', 'seteuid', 'setgid', 'setgroups', 'setpgid', 'setpgrp', 'setpriority', 'setregid', 'setresgid', 'setresuid', 'setreuid', 'setsid', 'setuid', 'setxattr', 'spawnl', 'spawnle', 'spawnlp', 'spawnlpe', 'spawnv', 'spawnve', 'spawnvp', 'spawnvpe', 'st', 'stat', 'stat_result', 'statvfs', 'statvfs_result', 'strerror', 'supports_bytes_environ', 'supports_dir_fd', 'supports_effective_ids', 'supports_fd', 'supports_follow_symlinks', 'symlink', 'sync', 'sys', 'sysconf', 'sysconf_names', 'system', 'tcgetpgrp', 'tcsetpgrp', 'terminal_size', 'times', 'times_result', 'truncate', 'ttyname', 'umask', 'uname', 'uname_result', 'unlink', 'unsetenv', 'urandom', 'utime', 'wait', 'wait3', 'wait4', 'waitid', 'waitid_result', 'waitpid', 'walk', 'write', 'writev']\n"
          ]
        }
      ]
    },
    {
      "cell_type": "code",
      "source": [
        "os.getcwd()"
      ],
      "metadata": {
        "colab": {
          "base_uri": "https://localhost:8080/",
          "height": 35
        },
        "id": "ENmGgFmAHEap",
        "outputId": "7be86223-ac89-4db2-9e2a-fafc3e9bcb00"
      },
      "execution_count": null,
      "outputs": [
        {
          "output_type": "execute_result",
          "data": {
            "application/vnd.google.colaboratory.intrinsic+json": {
              "type": "string"
            },
            "text/plain": [
              "'/content'"
            ]
          },
          "metadata": {},
          "execution_count": 60
        }
      ]
    },
    {
      "cell_type": "code",
      "source": [
        "os.mkdir('newly_maked.py')"
      ],
      "metadata": {
        "id": "sdag0-zkHEdD"
      },
      "execution_count": null,
      "outputs": []
    },
    {
      "cell_type": "code",
      "source": [
        "!touch newly_maked.py"
      ],
      "metadata": {
        "id": "jrDQ-vGwHEfQ"
      },
      "execution_count": null,
      "outputs": []
    },
    {
      "cell_type": "code",
      "source": [
        "os.getcwd()"
      ],
      "metadata": {
        "colab": {
          "base_uri": "https://localhost:8080/",
          "height": 35
        },
        "id": "NRSIf3-IHEhp",
        "outputId": "7db62a32-06df-43f2-e88c-0871fa7b314e"
      },
      "execution_count": null,
      "outputs": [
        {
          "output_type": "execute_result",
          "data": {
            "application/vnd.google.colaboratory.intrinsic+json": {
              "type": "string"
            },
            "text/plain": [
              "'/content'"
            ]
          },
          "metadata": {},
          "execution_count": 66
        }
      ]
    },
    {
      "cell_type": "code",
      "source": [
        "os.removedirs('/content/newly_maked.py')"
      ],
      "metadata": {
        "id": "8RVvMbWOHEjz"
      },
      "execution_count": null,
      "outputs": []
    },
    {
      "cell_type": "code",
      "source": [
        "import sys\n",
        "print(dir(sys))"
      ],
      "metadata": {
        "colab": {
          "base_uri": "https://localhost:8080/"
        },
        "id": "tzhkYr4SHEmI",
        "outputId": "f4db8b6b-9f52-490d-800a-8a97e9d2b9a4"
      },
      "execution_count": null,
      "outputs": [
        {
          "output_type": "stream",
          "name": "stdout",
          "text": [
            "['__breakpointhook__', '__displayhook__', '__doc__', '__excepthook__', '__interactivehook__', '__loader__', '__name__', '__package__', '__spec__', '__stderr__', '__stdin__', '__stdout__', '_clear_type_cache', '_current_frames', '_debugmallocstats', '_framework', '_getframe', '_git', '_home', '_xoptions', 'abiflags', 'api_version', 'argv', 'base_exec_prefix', 'base_prefix', 'breakpoint', 'breakpointhook', 'builtin_module_names', 'byteorder', 'call_tracing', 'callstats', 'copyright', 'displayhook', 'dont_write_bytecode', 'exc_info', 'excepthook', 'exec_prefix', 'executable', 'exit', 'flags', 'float_info', 'float_repr_style', 'get_asyncgen_hooks', 'get_coroutine_origin_tracking_depth', 'get_coroutine_wrapper', 'getallocatedblocks', 'getcheckinterval', 'getdefaultencoding', 'getdlopenflags', 'getfilesystemencodeerrors', 'getfilesystemencoding', 'getprofile', 'getrecursionlimit', 'getrefcount', 'getsizeof', 'getswitchinterval', 'gettrace', 'hash_info', 'hexversion', 'implementation', 'int_info', 'intern', 'is_finalizing', 'last_traceback', 'last_type', 'last_value', 'maxsize', 'maxunicode', 'meta_path', 'modules', 'path', 'path_hooks', 'path_importer_cache', 'platform', 'prefix', 'ps1', 'ps2', 'ps3', 'set_asyncgen_hooks', 'set_coroutine_origin_tracking_depth', 'set_coroutine_wrapper', 'setcheckinterval', 'setdlopenflags', 'setprofile', 'setrecursionlimit', 'setswitchinterval', 'settrace', 'stderr', 'stdin', 'stdout', 'thread_info', 'version', 'version_info', 'warnoptions']\n"
          ]
        }
      ]
    },
    {
      "cell_type": "code",
      "source": [
        "import datetime\n",
        "print(dir(datetime))"
      ],
      "metadata": {
        "colab": {
          "base_uri": "https://localhost:8080/"
        },
        "id": "5PiHpbHyHEoQ",
        "outputId": "10ae2592-3d43-4548-824a-d55a9944eda4"
      },
      "execution_count": null,
      "outputs": [
        {
          "output_type": "stream",
          "name": "stdout",
          "text": [
            "['MAXYEAR', 'MINYEAR', '__builtins__', '__cached__', '__doc__', '__file__', '__loader__', '__name__', '__package__', '__spec__', 'date', 'datetime', 'datetime_CAPI', 'sys', 'time', 'timedelta', 'timezone', 'tzinfo']\n"
          ]
        }
      ]
    },
    {
      "cell_type": "markdown",
      "source": [
        "ways to import module"
      ],
      "metadata": {
        "id": "l-MiExlnLt1u"
      }
    },
    {
      "cell_type": "code",
      "source": [
        "import math\n",
        "import math as m \n",
        "from math import factorial\n",
        "from math import *"
      ],
      "metadata": {
        "id": "c-RvotkdHEq0"
      },
      "execution_count": null,
      "outputs": []
    },
    {
      "cell_type": "code",
      "source": [
        "len('abc') , sys.getsizeof('abc')"
      ],
      "metadata": {
        "colab": {
          "base_uri": "https://localhost:8080/"
        },
        "id": "vEdaEIbPHEtP",
        "outputId": "b9860d04-b5be-49a2-e10e-c8652d90eb1d"
      },
      "execution_count": null,
      "outputs": [
        {
          "output_type": "execute_result",
          "data": {
            "text/plain": [
              "(3, 52)"
            ]
          },
          "metadata": {},
          "execution_count": 88
        }
      ]
    },
    {
      "cell_type": "code",
      "source": [
        "print(sys.argv)"
      ],
      "metadata": {
        "colab": {
          "base_uri": "https://localhost:8080/"
        },
        "id": "mhqNuXdoHEvc",
        "outputId": "e99453d3-1ac4-42fd-cbb3-1695064e2bb5"
      },
      "execution_count": null,
      "outputs": [
        {
          "output_type": "stream",
          "name": "stdout",
          "text": [
            "['/usr/local/lib/python3.7/dist-packages/ipykernel_launcher.py', '-f', '/root/.local/share/jupyter/runtime/kernel-d6659888-df8a-4792-95dc-b6e55c31f8e7.json']\n"
          ]
        }
      ]
    },
    {
      "cell_type": "markdown",
      "source": [
        "custome module"
      ],
      "metadata": {
        "id": "swt2wFHCQjVS"
      }
    },
    {
      "cell_type": "code",
      "source": [
        " print(\"Module Name \", __name__)"
      ],
      "metadata": {
        "colab": {
          "base_uri": "https://localhost:8080/"
        },
        "id": "oEw0yI44HExu",
        "outputId": "df6b35a9-47c7-4fbf-f193-c806f66a08e1"
      },
      "execution_count": null,
      "outputs": [
        {
          "output_type": "stream",
          "name": "stdout",
          "text": [
            "Module Name  __main__\n"
          ]
        }
      ]
    },
    {
      "cell_type": "markdown",
      "source": [
        "#Packages\n",
        "\n",
        "Package are a way of structuring pythons module namespaces by using 'dotted module names'\n",
        "\n",
        "A difrectory must contian a file named init.py inorder for python it as package.This file can be left empty but we generally place the initilization code for that package in this file \n"
      ],
      "metadata": {
        "id": "SixZ4UGJbxGz"
      }
    },
    {
      "cell_type": "markdown",
      "source": [
        "#oops\n",
        "\n",
        "\n",
        "*   Object Oriented Programming System \n",
        "*   Classes and Objects.\n",
        "\n",
        "* **Abstraction**\n",
        "*    Data Abstraction is the property through which only the essential details are displayed to the user \n",
        "*    Hiding the implementation \n",
        "*    e.g. the working of a car \n",
        "* **Encapsulation**\n",
        "*    wrapping up of data into one unit.\n",
        "*    All the properties and methods are combined together.\n",
        "* **Inheritance**\n",
        "*    It is the mechanism by which one class is allowed to inherit the features(properties and methods) of another class.\n",
        "*    This offer a lot of reusability of code.\n",
        "* **Polymorphism**\n",
        "*    The word polymorphism means having many forms.\n",
        "*    We can define polymorphism as the ability of a message to be displayed in more than one form.\n",
        "\n",
        "\n"
      ],
      "metadata": {
        "id": "eQOqsQLIp97u"
      }
    },
    {
      "cell_type": "markdown",
      "source": [
        "#**Class**\n",
        "*    A class is a user defined blueprint or prototype of a real world entity. e.g Human.\n",
        "*    Ir represent the set of properties of methods that are common to all objects of one type.\n",
        "*    class: datatype"
      ],
      "metadata": {
        "id": "is2prdenu4NN"
      }
    },
    {
      "cell_type": "code",
      "source": [
        "# empty class\n",
        "class Human:\n",
        "  pass "
      ],
      "metadata": {
        "id": "MJOtN4eIaWxN"
      },
      "execution_count": null,
      "outputs": []
    },
    {
      "cell_type": "markdown",
      "source": [
        "**Object**\n",
        "*    objects are the instances of the classes.\n",
        "*     e.g. Rama is a instance of Human Calss \n",
        "*     Object: variable\n",
        "*     When an object of a class is created, the class is said to be instantiated \n"
      ],
      "metadata": {
        "id": "382U3EQtvR-3"
      }
    },
    {
      "cell_type": "code",
      "source": [
        "# creating an object \n",
        "ram = Human()"
      ],
      "metadata": {
        "id": "pF2OR0WIa9iw"
      },
      "execution_count": null,
      "outputs": []
    },
    {
      "cell_type": "code",
      "source": [
        "print(type(ram))"
      ],
      "metadata": {
        "id": "ip42A1hra9lC",
        "colab": {
          "base_uri": "https://localhost:8080/"
        },
        "outputId": "7a554817-7ce4-467c-a38c-a1fc4a472457"
      },
      "execution_count": null,
      "outputs": [
        {
          "output_type": "stream",
          "name": "stdout",
          "text": [
            "<class '__main__.Human'>\n"
          ]
        }
      ]
    },
    {
      "cell_type": "markdown",
      "source": [
        "#**Defining the constructor of a class** \n",
        "\n",
        "- A constructor is a special member function of a class that is executed whenever we create new objects of that class, \n",
        "\n",
        "def __init__(self):\n",
        "\n",
        "    ....\n",
        "\n",
        "    ...."
      ],
      "metadata": {
        "id": "oXhlv54FwhX-"
      }
    },
    {
      "cell_type": "code",
      "source": [
        "class Human:\n",
        "  # contructor \n",
        "  def __init__(self, name , age):\n",
        "    print('creating a new object...')\n",
        "    # intance variable \n",
        "    # attribute reference \n",
        "    self.name = name \n",
        "    self.age = age "
      ],
      "metadata": {
        "id": "cxa39wuva9n9"
      },
      "execution_count": null,
      "outputs": []
    },
    {
      "cell_type": "code",
      "source": [
        "# create an object \n",
        "h1 = Human('Ramu', 34)"
      ],
      "metadata": {
        "id": "RhvXagHya9qt",
        "colab": {
          "base_uri": "https://localhost:8080/"
        },
        "outputId": "aa93d907-553f-4c11-ce70-38f58138a88e"
      },
      "execution_count": null,
      "outputs": [
        {
          "output_type": "stream",
          "name": "stdout",
          "text": [
            "creating a new object...\n"
          ]
        }
      ]
    },
    {
      "cell_type": "code",
      "source": [
        "print(h1.age)\n",
        "print(h1.name)"
      ],
      "metadata": {
        "colab": {
          "base_uri": "https://localhost:8080/"
        },
        "id": "8i_xyCsfyHLV",
        "outputId": "f9960924-1623-4fff-c343-3ccca5fa800c"
      },
      "execution_count": null,
      "outputs": [
        {
          "output_type": "stream",
          "name": "stdout",
          "text": [
            "34\n",
            "Ramu\n"
          ]
        }
      ]
    },
    {
      "cell_type": "code",
      "source": [
        "h2 = Human()"
      ],
      "metadata": {
        "id": "_QsWJthVa9tJ",
        "colab": {
          "base_uri": "https://localhost:8080/"
        },
        "outputId": "22d8aa78-3a5a-4bd5-e543-6662b1719b33"
      },
      "execution_count": null,
      "outputs": [
        {
          "output_type": "stream",
          "name": "stdout",
          "text": [
            "creating a new object...\n"
          ]
        }
      ]
    },
    {
      "cell_type": "markdown",
      "source": [
        "#Defining the Instance Methods \n",
        "\n",
        "def introduce(self):\n",
        "\n",
        "  ...\n",
        "\n",
        "  ..."
      ],
      "metadata": {
        "id": "8G3vj5XUydY3"
      }
    },
    {
      "cell_type": "code",
      "source": [
        "class Human:\n",
        "  # contructor \n",
        "  def __init__(self, name , age):\n",
        "    print('creating a new object...')\n",
        "    # intance variable \n",
        "    # attribute reference \n",
        "    self.name = name \n",
        "    self.age = age \n",
        "  # instance method \n",
        "  def introduce(self):\n",
        "    return 'Hi, My name is {}. I am {} years old.'.format(self.name, self.age)"
      ],
      "metadata": {
        "id": "wu5zuEIOxj6J"
      },
      "execution_count": null,
      "outputs": []
    },
    {
      "cell_type": "code",
      "source": [
        "h1 = Human('Ramanand',  23)\n",
        "h2 = Human('Ankit', 45)"
      ],
      "metadata": {
        "colab": {
          "base_uri": "https://localhost:8080/"
        },
        "id": "9GCApw07xj9g",
        "outputId": "7ed1efc5-0f63-4f1b-8e44-eaf672bc392c"
      },
      "execution_count": null,
      "outputs": [
        {
          "output_type": "stream",
          "name": "stdout",
          "text": [
            "creating a new object...\n",
            "creating a new object...\n"
          ]
        }
      ]
    },
    {
      "cell_type": "code",
      "source": [
        "h1.introduce()\n",
        "h2.introduce()"
      ],
      "metadata": {
        "colab": {
          "base_uri": "https://localhost:8080/",
          "height": 35
        },
        "id": "LdAAsqR9xkCS",
        "outputId": "4912cd98-4385-4988-b468-ccbc82832966"
      },
      "execution_count": null,
      "outputs": [
        {
          "output_type": "execute_result",
          "data": {
            "application/vnd.google.colaboratory.intrinsic+json": {
              "type": "string"
            },
            "text/plain": [
              "'Hi, My name is Ankit. I am 45 years old.'"
            ]
          },
          "metadata": {},
          "execution_count": 107
        }
      ]
    },
    {
      "cell_type": "code",
      "source": [
        "h2.name = 'Chomu'"
      ],
      "metadata": {
        "id": "9K3tUpPIxkGY"
      },
      "execution_count": null,
      "outputs": []
    },
    {
      "cell_type": "code",
      "source": [
        "h2.name"
      ],
      "metadata": {
        "colab": {
          "base_uri": "https://localhost:8080/",
          "height": 35
        },
        "id": "4cydUDVwzsfW",
        "outputId": "eb21f569-518f-4588-c201-0f6fc80f5af3"
      },
      "execution_count": null,
      "outputs": [
        {
          "output_type": "execute_result",
          "data": {
            "application/vnd.google.colaboratory.intrinsic+json": {
              "type": "string"
            },
            "text/plain": [
              "'Chomu'"
            ]
          },
          "metadata": {},
          "execution_count": 110
        }
      ]
    },
    {
      "cell_type": "code",
      "source": [
        ""
      ],
      "metadata": {
        "id": "2jS41E_5zsU6"
      },
      "execution_count": null,
      "outputs": []
    },
    {
      "cell_type": "markdown",
      "source": [
        "**Class Variable**\n",
        "\n",
        "* Class Variable are common to all instances.\n",
        "\n",
        "* They are associated with the class "
      ],
      "metadata": {
        "id": "lyOI_Zufp7xM"
      }
    },
    {
      "cell_type": "code",
      "source": [
        "class Human:\n",
        "  # class variables \n",
        "  database = []\n",
        "  population = 0\n",
        "  id_seq = 101\n",
        "\n",
        "  # contructor \n",
        "  def __init__(self, name , age, is_alive=True):\n",
        "    print('creating a new object...')\n",
        "\n",
        "    # intance variable \n",
        "    # attribute reference \n",
        "    self.name = name \n",
        "    self.age = age \n",
        "    self.is_alive = is_alive\n",
        "    self.id = Human.id_seq\n",
        "    Human.id_seq += 1\n",
        "    Human.population += 1\n",
        "\n",
        "    Human.database.append(self)\n",
        "\n",
        "    # add id to every object \n",
        "\n",
        "  # instance method \n",
        "  def introduce(self):\n",
        "    return 'Hi, My name is {}. I am {} years old.'.format(self.name, self.age)\n",
        "\n",
        "  def die(self):\n",
        "    if self.is_live:\n",
        "      print(self.name , \"is dyin....\")\n",
        "      self.is_alive = False\n",
        "      Human.population -= 1\n",
        "    else:\n",
        "      print(\"{} is already dead \".format(self.name))"
      ],
      "metadata": {
        "id": "Traw16lL4YvU"
      },
      "execution_count": null,
      "outputs": []
    },
    {
      "cell_type": "code",
      "source": [
        "h1 = Human('Ramu', 45)"
      ],
      "metadata": {
        "colab": {
          "base_uri": "https://localhost:8080/"
        },
        "id": "y4i7Gcn-43fK",
        "outputId": "71b6cd8a-7c13-453d-801a-9239360c7c2e"
      },
      "execution_count": null,
      "outputs": [
        {
          "output_type": "stream",
          "name": "stdout",
          "text": [
            "creating a new object...\n"
          ]
        }
      ]
    },
    {
      "cell_type": "code",
      "source": [
        "Human.database"
      ],
      "metadata": {
        "colab": {
          "base_uri": "https://localhost:8080/"
        },
        "id": "3kt_NV8P47Dx",
        "outputId": "4e0c74fd-ba90-475e-d53c-537bcb5201e1"
      },
      "execution_count": null,
      "outputs": [
        {
          "output_type": "execute_result",
          "data": {
            "text/plain": [
              "[<__main__.Human at 0x7fcd77303c10>]"
            ]
          },
          "metadata": {},
          "execution_count": 7
        }
      ]
    },
    {
      "cell_type": "code",
      "source": [
        "h2 = Human('Ankit', 45)"
      ],
      "metadata": {
        "colab": {
          "base_uri": "https://localhost:8080/"
        },
        "id": "682Wt-kBlXDk",
        "outputId": "50627e58-9294-4fe8-dc30-082438282f78"
      },
      "execution_count": null,
      "outputs": [
        {
          "output_type": "stream",
          "name": "stdout",
          "text": [
            "creating a new object...\n"
          ]
        }
      ]
    },
    {
      "cell_type": "code",
      "source": [
        "Human.population"
      ],
      "metadata": {
        "colab": {
          "base_uri": "https://localhost:8080/"
        },
        "id": "RW08iFrj47Bm",
        "outputId": "7f51e209-607b-43cb-f5eb-dfc264613f11"
      },
      "execution_count": null,
      "outputs": [
        {
          "output_type": "execute_result",
          "data": {
            "text/plain": [
              "1"
            ]
          },
          "metadata": {},
          "execution_count": 8
        }
      ]
    },
    {
      "cell_type": "code",
      "source": [
        "Human.id_seq"
      ],
      "metadata": {
        "colab": {
          "base_uri": "https://localhost:8080/"
        },
        "id": "fjs1Pj6E46_o",
        "outputId": "efbfff22-717e-4a03-8c19-b302de522e4a"
      },
      "execution_count": null,
      "outputs": [
        {
          "output_type": "execute_result",
          "data": {
            "text/plain": [
              "103"
            ]
          },
          "metadata": {},
          "execution_count": 10
        }
      ]
    },
    {
      "cell_type": "code",
      "source": [
        ""
      ],
      "metadata": {
        "id": "3jNKIxv1mOtA"
      },
      "execution_count": null,
      "outputs": []
    },
    {
      "cell_type": "markdown",
      "source": [
        "**Adding more method die()**"
      ],
      "metadata": {
        "id": "GSDPNWVelolQ"
      }
    },
    {
      "cell_type": "markdown",
      "source": [
        "#**Magic Functions**\n",
        "\n",
        "  -They are called automatically when some particular event occur.\n",
        "\n",
        "  e.g. :  _ _repr_ _ , _ _init_ _, _ _str_ _"
      ],
      "metadata": {
        "id": "m3hKIjw_qHgI"
      }
    },
    {
      "cell_type": "code",
      "source": [
        "class Human:\n",
        "  # class variables \n",
        "  database = []\n",
        "  population = 0\n",
        "  id_seq = 101\n",
        "\n",
        "  # contructor \n",
        "  def __init__(self, name , age, is_alive=True):\n",
        "    print('creating a new object...')\n",
        "\n",
        "    # intance variable \n",
        "    # attribute reference \n",
        "    self.name = name \n",
        "    self.age = age \n",
        "    self.is_alive = is_alive\n",
        "    self.id = Human.id_seq\n",
        "    Human.id_seq += 1\n",
        "    Human.population += 1\n",
        "\n",
        "    Human.database.append(self)\n",
        "\n",
        "    # add id to every object \n",
        "\n",
        "  # instance method \n",
        "  def introduce(self):\n",
        "    return 'Hi, My name is {}. I am {} years old.'.format(self.name, self.age)\n",
        "\n",
        "  def die(self):\n",
        "    if self.is_live:\n",
        "      print(self.name , \"is dyin....\")\n",
        "      self.is_alive = False\n",
        "      Human.population -= 1\n",
        "    else:\n",
        "      print(\"{} is already dead \".format(self.name))\n",
        "  def __repr__(self):\n",
        "    \"\"\"\n",
        "    this method needs to return \n",
        "    \"\"\"\n",
        "    return \"[{}, {}, {}, {}]\".format(self.id, self.name, self.age, self.is_alive)"
      ],
      "metadata": {
        "id": "GKrfSvnQlmza"
      },
      "execution_count": null,
      "outputs": []
    },
    {
      "cell_type": "code",
      "source": [
        "h1 = Human(\"Ram\", 22)\n",
        "h2 = Human('Shyam', 34)"
      ],
      "metadata": {
        "colab": {
          "base_uri": "https://localhost:8080/"
        },
        "id": "fiRYj_WPlmnM",
        "outputId": "790a0829-1dc2-46da-cfeb-544ca6c0d776"
      },
      "execution_count": null,
      "outputs": [
        {
          "output_type": "stream",
          "name": "stdout",
          "text": [
            "creating a new object...\n",
            "creating a new object...\n"
          ]
        }
      ]
    },
    {
      "cell_type": "code",
      "source": [
        "print(h1)"
      ],
      "metadata": {
        "colab": {
          "base_uri": "https://localhost:8080/"
        },
        "id": "DTwf4vjv468_",
        "outputId": "a29c252b-f9f2-4d66-9532-bead8f12a4ef"
      },
      "execution_count": null,
      "outputs": [
        {
          "output_type": "stream",
          "name": "stdout",
          "text": [
            "[101, Ram, 22, True]\n"
          ]
        }
      ]
    },
    {
      "cell_type": "code",
      "source": [
        "print(h2)"
      ],
      "metadata": {
        "colab": {
          "base_uri": "https://localhost:8080/"
        },
        "id": "UKpMxRrIhq8R",
        "outputId": "a58b6f0c-ad73-40e8-cddc-a620cc1168e2"
      },
      "execution_count": null,
      "outputs": [
        {
          "output_type": "stream",
          "name": "stdout",
          "text": [
            "[102, Shyam, 34, True]\n"
          ]
        }
      ]
    },
    {
      "cell_type": "code",
      "source": [
        "class change:\n",
        "    def __init__(self, x, y, z):\n",
        "        self.a = x + y + z\n",
        " \n",
        "x = change(1,2,3)\n",
        "y = getattr(x, 'a')\n",
        "setattr(x, 'a', y+1)\n",
        "print(x.a)"
      ],
      "metadata": {
        "colab": {
          "base_uri": "https://localhost:8080/"
        },
        "id": "S4zKjsUXrvZm",
        "outputId": "0920b7db-342e-4109-ce74-bc3cfc859d38"
      },
      "execution_count": null,
      "outputs": [
        {
          "output_type": "stream",
          "name": "stdout",
          "text": [
            "7\n"
          ]
        }
      ]
    },
    {
      "cell_type": "code",
      "source": [
        "class demo():\n",
        "    def __repr__(self):\n",
        "        return '__repr__ function called'\n",
        "    def __str__(self):\n",
        "        return '__str__ function called'\n",
        " \n",
        "s=demo()\n",
        "print(s)"
      ],
      "metadata": {
        "colab": {
          "base_uri": "https://localhost:8080/"
        },
        "id": "8k7OXUdfrv2D",
        "outputId": "f9883ad2-6a92-40aa-c7be-36f3a03a771c"
      },
      "execution_count": null,
      "outputs": [
        {
          "output_type": "stream",
          "name": "stdout",
          "text": [
            "__str__ function called\n"
          ]
        }
      ]
    },
    {
      "cell_type": "markdown",
      "source": [
        "#**Inheritance**\n",
        "*  -a process where one class acquire all the the methods and properties of another class , parent class is the class being inherited from, also called base class.\n",
        "\n",
        "Child class is the class that inhrits from another class, also called derived class.\n",
        "\n",
        "Syntax:\n",
        " \n",
        " class ChildClassName(ParentClassName)\n",
        "\n",
        "  ...\n"
      ],
      "metadata": {
        "id": "we-eFNVDyv4M"
      }
    },
    {
      "cell_type": "code",
      "source": [
        "class Human:\n",
        "  # class variables \n",
        "  database = []\n",
        "  population = 0\n",
        "  id_seq = 101\n",
        "\n",
        "  # contructor \n",
        "  def __init__(self, name , age, is_alive=True):\n",
        "    print('creating a new object...')\n",
        "\n",
        "    # intance variable \n",
        "    # attribute reference \n",
        "    self.name = name \n",
        "    self.age = age \n",
        "    self.is_alive = is_alive\n",
        "    self.id = Human.id_seq\n",
        "    Human.id_seq += 1\n",
        "    Human.population += 1\n",
        "\n",
        "    Human.database.append(self)\n",
        "\n",
        "    # add id to every object \n",
        "\n",
        "  # instance method \n",
        "  def introduce(self):\n",
        "    return 'Hi, My name is {}. I am {} years old.'.format(self.name, self.age)\n",
        "\n",
        "  def die(self):\n",
        "    if self.is_alive:\n",
        "      print(self.name , \"is dyin....\")\n",
        "      self.is_alive = False\n",
        "      Human.population -= 1\n",
        "    else:\n",
        "      print(\"{} is already dead \".format(self.name))\n",
        "  def __repr__(self):\n",
        "    \"\"\"\n",
        "    this method needs to return \n",
        "    \"\"\"\n",
        "    return \"[{}, {}, {}, {}]\".format(self.id, self.name, self.age, self.is_alive)"
      ],
      "metadata": {
        "id": "s7wLGy5_3w5b"
      },
      "execution_count": null,
      "outputs": []
    },
    {
      "cell_type": "code",
      "source": [
        "Human.population"
      ],
      "metadata": {
        "colab": {
          "base_uri": "https://localhost:8080/"
        },
        "id": "m-HYC6z-2-Se",
        "outputId": "b89ac446-94ed-40eb-f3d4-a3fe0858e691"
      },
      "execution_count": null,
      "outputs": [
        {
          "output_type": "execute_result",
          "data": {
            "text/plain": [
              "0"
            ]
          },
          "metadata": {},
          "execution_count": 77
        }
      ]
    },
    {
      "cell_type": "code",
      "source": [
        "# child class or derived class\n",
        "\n",
        "class Hitman(Human):\n",
        "  \n",
        "  # reinitialize constructor \n",
        "  def __init__(self, name, age):\n",
        "    super().__init__(name, age)\n",
        "\n",
        "    # additional hitman properties\n",
        "    self.kills = 0\n",
        "    self.kill_list = []\n",
        "\n",
        "  # adding kill method\n",
        "  def kill(self, person):\n",
        "    \"\"\"Person : object of human\"\"\"\n",
        "\n",
        "    if  person.is_alive : \n",
        "      print(\"{} is killing {}\".format(self.name, person.name))\n",
        "      person.die()\n",
        "      self.kills += 1\n",
        "      self.kill_list.append(person)\n",
        "    else:\n",
        "      print(\"{} is alredy dead\".format(person.name))"
      ],
      "metadata": {
        "id": "BEH8BSfBrv--"
      },
      "execution_count": null,
      "outputs": []
    },
    {
      "cell_type": "code",
      "source": [
        "h1 = Human('Ram', 12)\n",
        "h2 = Human('Shyam', 34)\n",
        "h3 = Human('Tanu', 56)"
      ],
      "metadata": {
        "colab": {
          "base_uri": "https://localhost:8080/"
        },
        "id": "CYeZweKjrvW0",
        "outputId": "f2970451-9f7d-4356-86fd-f3627dc91a93"
      },
      "execution_count": null,
      "outputs": [
        {
          "output_type": "stream",
          "name": "stdout",
          "text": [
            "creating a new object...\n",
            "creating a new object...\n",
            "creating a new object...\n"
          ]
        }
      ]
    },
    {
      "cell_type": "code",
      "source": [
        " hit = Hitman(\"James\", 23)"
      ],
      "metadata": {
        "colab": {
          "base_uri": "https://localhost:8080/"
        },
        "id": "TG8xdSp_rvTH",
        "outputId": "e51e71a5-59e8-477c-c996-51000f6d95c5"
      },
      "execution_count": null,
      "outputs": [
        {
          "output_type": "stream",
          "name": "stdout",
          "text": [
            "creating a new object...\n"
          ]
        }
      ]
    },
    {
      "cell_type": "code",
      "source": [
        "Human.population"
      ],
      "metadata": {
        "colab": {
          "base_uri": "https://localhost:8080/"
        },
        "id": "h5oIXIfH3IOv",
        "outputId": "ef0be4b0-490e-477e-efa2-0593d38cfb72"
      },
      "execution_count": null,
      "outputs": [
        {
          "output_type": "execute_result",
          "data": {
            "text/plain": [
              "4"
            ]
          },
          "metadata": {},
          "execution_count": 81
        }
      ]
    },
    {
      "cell_type": "code",
      "source": [
        ""
      ],
      "metadata": {
        "id": "7-6Hw2bR3K-Q"
      },
      "execution_count": null,
      "outputs": []
    },
    {
      "cell_type": "code",
      "source": [
        "hit.introduce()"
      ],
      "metadata": {
        "colab": {
          "base_uri": "https://localhost:8080/",
          "height": 35
        },
        "id": "_RMJdUQZrvPK",
        "outputId": "675f10c3-6897-4d36-c4a4-432a55c7d988"
      },
      "execution_count": null,
      "outputs": [
        {
          "output_type": "execute_result",
          "data": {
            "application/vnd.google.colaboratory.intrinsic+json": {
              "type": "string"
            },
            "text/plain": [
              "'Hi, My name is James. I am 23 years old.'"
            ]
          },
          "metadata": {},
          "execution_count": 82
        }
      ]
    },
    {
      "cell_type": "code",
      "source": [
        "Human.database"
      ],
      "metadata": {
        "colab": {
          "base_uri": "https://localhost:8080/"
        },
        "id": "UHN8R-K73VeV",
        "outputId": "89ff94f2-f54f-4e81-94fe-424f2d4b3de5"
      },
      "execution_count": null,
      "outputs": [
        {
          "output_type": "execute_result",
          "data": {
            "text/plain": [
              "[[101, Ram, 12, True],\n",
              " [102, Shyam, 34, True],\n",
              " [103, Tanu, 56, True],\n",
              " [104, James, 23, True]]"
            ]
          },
          "metadata": {},
          "execution_count": 83
        }
      ]
    },
    {
      "cell_type": "code",
      "source": [
        "print(hit)"
      ],
      "metadata": {
        "colab": {
          "base_uri": "https://localhost:8080/"
        },
        "id": "x2dXIbFR16fZ",
        "outputId": "8f82c181-344b-415e-da8a-1a61de3d6017"
      },
      "execution_count": null,
      "outputs": [
        {
          "output_type": "stream",
          "name": "stdout",
          "text": [
            "[104, James, 23, True]\n"
          ]
        }
      ]
    },
    {
      "cell_type": "code",
      "source": [
        "hit.kills"
      ],
      "metadata": {
        "colab": {
          "base_uri": "https://localhost:8080/"
        },
        "id": "XjYtj_lh2ATY",
        "outputId": "27dc1379-1df9-4b94-f2c8-8439d87095de"
      },
      "execution_count": null,
      "outputs": [
        {
          "output_type": "execute_result",
          "data": {
            "text/plain": [
              "0"
            ]
          },
          "metadata": {},
          "execution_count": 85
        }
      ]
    },
    {
      "cell_type": "code",
      "source": [
        "hit.kill_list"
      ],
      "metadata": {
        "colab": {
          "base_uri": "https://localhost:8080/"
        },
        "id": "S7QskvXN3hQ2",
        "outputId": "66c03e9c-a3ff-48f2-fb6c-1b142699a509"
      },
      "execution_count": null,
      "outputs": [
        {
          "output_type": "execute_result",
          "data": {
            "text/plain": [
              "[]"
            ]
          },
          "metadata": {},
          "execution_count": 86
        }
      ]
    },
    {
      "cell_type": "code",
      "source": [
        "hit.kill(h3)"
      ],
      "metadata": {
        "colab": {
          "base_uri": "https://localhost:8080/"
        },
        "id": "zeEnuMfk3fFo",
        "outputId": "a0dcc75c-f6ac-4ddb-9b93-0b30a4792909"
      },
      "execution_count": null,
      "outputs": [
        {
          "output_type": "stream",
          "name": "stdout",
          "text": [
            "James is killing Tanu\n",
            "Tanu is dyin....\n"
          ]
        }
      ]
    },
    {
      "cell_type": "code",
      "source": [
        "hit.kills\n",
        "hit.kill_list"
      ],
      "metadata": {
        "colab": {
          "base_uri": "https://localhost:8080/"
        },
        "id": "y0zmOXYV5EjE",
        "outputId": "a6ca36ea-6b3a-4c54-fba9-07c444c6348c"
      },
      "execution_count": null,
      "outputs": [
        {
          "output_type": "execute_result",
          "data": {
            "text/plain": [
              "[[103, Tanu, 56, False]]"
            ]
          },
          "metadata": {},
          "execution_count": 88
        }
      ]
    },
    {
      "cell_type": "code",
      "source": [
        "hit.kill(h3)"
      ],
      "metadata": {
        "colab": {
          "base_uri": "https://localhost:8080/"
        },
        "id": "3TocPSco5Lds",
        "outputId": "3dd7b258-a7af-4358-fc84-cbf0b8103fab"
      },
      "execution_count": null,
      "outputs": [
        {
          "output_type": "stream",
          "name": "stdout",
          "text": [
            "[103, Tanu, 56, False] is alredy dead\n"
          ]
        }
      ]
    },
    {
      "cell_type": "markdown",
      "source": [
        "#**Different Types of inhertance**\n",
        "Multilevel Inheritance"
      ],
      "metadata": {
        "id": "0bUHc2Ey6CJn"
      }
    },
    {
      "cell_type": "code",
      "source": [
        "class A:\n",
        "  def m(self):\n",
        "    print(\"I am in class A\")\n",
        "\n",
        "class B(A):\n",
        "  def m1(self):\n",
        "    print(\"I am in class B\")\n",
        "\n",
        "class C(B):\n",
        "  def m1(self):\n",
        "    print(\"I am in class C\")\n",
        "  def m2(self):\n",
        "    print(\"I am in class C\")"
      ],
      "metadata": {
        "id": "pMC9vrnj5RLO"
      },
      "execution_count": null,
      "outputs": []
    },
    {
      "cell_type": "code",
      "source": [
        "obj1 = A()\n",
        "obj2 = B()\n",
        "obj3 = C()"
      ],
      "metadata": {
        "id": "rj8TAe0P5LVV"
      },
      "execution_count": null,
      "outputs": []
    },
    {
      "cell_type": "code",
      "source": [
        "obj1.m()\n"
      ],
      "metadata": {
        "colab": {
          "base_uri": "https://localhost:8080/"
        },
        "id": "bZPS0TZa5Q1t",
        "outputId": "fa6bd985-aa15-41e0-8ea9-8f19ab586141"
      },
      "execution_count": null,
      "outputs": [
        {
          "output_type": "stream",
          "name": "stdout",
          "text": [
            "I am in class A\n"
          ]
        }
      ]
    },
    {
      "cell_type": "code",
      "source": [
        "obj2.m1()"
      ],
      "metadata": {
        "colab": {
          "base_uri": "https://localhost:8080/"
        },
        "id": "GGd7QB035WoZ",
        "outputId": "6ca8fc64-a9b3-4d43-d1e5-8650a304176b"
      },
      "execution_count": null,
      "outputs": [
        {
          "output_type": "stream",
          "name": "stdout",
          "text": [
            "I am in class B\n"
          ]
        }
      ]
    },
    {
      "cell_type": "code",
      "source": [
        "obj2.m()"
      ],
      "metadata": {
        "colab": {
          "base_uri": "https://localhost:8080/"
        },
        "id": "mXBm6lHp5LXt",
        "outputId": "40e8c772-ce94-4b5c-ccf0-398fec18f21e"
      },
      "execution_count": null,
      "outputs": [
        {
          "output_type": "stream",
          "name": "stdout",
          "text": [
            "I am in class A\n"
          ]
        }
      ]
    },
    {
      "cell_type": "code",
      "source": [
        "obj3.m1()"
      ],
      "metadata": {
        "colab": {
          "base_uri": "https://localhost:8080/"
        },
        "id": "xfDpHlqZ5LbC",
        "outputId": "883f2f28-cba6-4c3b-c9f7-c6eee4752f1a"
      },
      "execution_count": null,
      "outputs": [
        {
          "output_type": "stream",
          "name": "stdout",
          "text": [
            "I am in class C\n"
          ]
        }
      ]
    },
    {
      "cell_type": "code",
      "source": [
        "obj3.m2()\n"
      ],
      "metadata": {
        "colab": {
          "base_uri": "https://localhost:8080/"
        },
        "id": "wS6opiDN5Ldy",
        "outputId": "679474b9-deb2-47f8-a86c-868509e02b52"
      },
      "execution_count": null,
      "outputs": [
        {
          "output_type": "stream",
          "name": "stdout",
          "text": [
            "I am in class C\n"
          ]
        }
      ]
    },
    {
      "cell_type": "markdown",
      "source": [
        "Multiple Inheritance"
      ],
      "metadata": {
        "id": "s55FMBQ660ZE"
      }
    },
    {
      "cell_type": "code",
      "source": [
        "class A():\n",
        "  def find(self):\n",
        "    print('Executed form class A')\n",
        "class B():\n",
        "  def explore(self):\n",
        "    print('Executed from class B')\n",
        "  def discover(self):\n",
        "    print('Executed from class B')\n",
        "class C(A, B):\n",
        "  def explore(self):\n",
        "    print('Execited from class C')"
      ],
      "metadata": {
        "id": "0S4W-uzM5LgS"
      },
      "execution_count": null,
      "outputs": []
    },
    {
      "cell_type": "code",
      "source": [
        "obj = C()"
      ],
      "metadata": {
        "id": "J9fbOudJ5Lk1"
      },
      "execution_count": null,
      "outputs": []
    },
    {
      "cell_type": "code",
      "source": [
        "obj.find()"
      ],
      "metadata": {
        "colab": {
          "base_uri": "https://localhost:8080/"
        },
        "id": "auD3ig_X5CKD",
        "outputId": "b4e40b45-99ed-4f34-f64f-2193a8144fc6"
      },
      "execution_count": null,
      "outputs": [
        {
          "output_type": "stream",
          "name": "stdout",
          "text": [
            "Executed form class A\n"
          ]
        }
      ]
    },
    {
      "cell_type": "code",
      "source": [
        "obj.explore()"
      ],
      "metadata": {
        "colab": {
          "base_uri": "https://localhost:8080/"
        },
        "id": "jZ_uiNyg77Pz",
        "outputId": "d5684ef4-5dde-4590-cec3-6d41ddcf0a04"
      },
      "execution_count": null,
      "outputs": [
        {
          "output_type": "stream",
          "name": "stdout",
          "text": [
            "Execited from class C\n"
          ]
        }
      ]
    },
    {
      "cell_type": "code",
      "source": [
        "obj.discover()"
      ],
      "metadata": {
        "colab": {
          "base_uri": "https://localhost:8080/"
        },
        "id": "SXmIin-p7-3K",
        "outputId": "25b98410-0146-4fa3-a25a-2bab5ffd116f"
      },
      "execution_count": null,
      "outputs": [
        {
          "output_type": "stream",
          "name": "stdout",
          "text": [
            "Executed from class B\n"
          ]
        }
      ]
    },
    {
      "cell_type": "markdown",
      "source": [
        "Mehod Resolution Order(MRO)"
      ],
      "metadata": {
        "id": "dQvmcwKL8PrZ"
      }
    },
    {
      "cell_type": "code",
      "source": [
        "class Random(object):\n",
        "  pass"
      ],
      "metadata": {
        "id": "HFP0eUg48WT4"
      },
      "execution_count": null,
      "outputs": []
    },
    {
      "cell_type": "code",
      "source": [
        "class A():\n",
        "  def find(self):\n",
        "    print('Executed form class A')\n",
        "class B():\n",
        "  def explore(self):\n",
        "    print('Executed from class B')\n",
        "  def discover(self):\n",
        "    print('Executed from class B')\n",
        "class C(A, B):\n",
        "  def explore(self):\n",
        "    print('Execited from class C')"
      ],
      "metadata": {
        "id": "tlfmUrfx8WM8"
      },
      "execution_count": null,
      "outputs": []
    },
    {
      "cell_type": "code",
      "source": [
        "class triangle:\n",
        "  def __init__(self, base, height, **kwargs):\n",
        "    print('triangle class called')\n",
        "    super().__init__(**kwargs)\n",
        "    self.base = base\n",
        "    self.height = height\n",
        "\n",
        "  def tArea(self):\n",
        "    print(\"Area of triangle \", 0.5*self.base*self.height)"
      ],
      "metadata": {
        "id": "1qUP3wxt8WXn"
      },
      "execution_count": null,
      "outputs": []
    },
    {
      "cell_type": "code",
      "source": [
        "class rectangle:\n",
        "  def __init__(self, lengt, width, **kwargs):\n",
        "    super().__init__(**kwargs)\n",
        "    self.lengt = lengt\n",
        "    self.width = width\n",
        "  \n",
        "  def rArea(self):\n",
        "    print(\"Area of a Rectangle\", self.lengt*self.width)"
      ],
      "metadata": {
        "id": "pxTWcr2w8WRY"
      },
      "execution_count": null,
      "outputs": []
    },
    {
      "cell_type": "code",
      "source": [
        "class quardilatral(triangle, rectangle):\n",
        "  def __init__(self, num, lengt, width, base, height):\n",
        "    self.num = num\n",
        "    super().__init__(lengt = lengt, width = width, base = base, height=height)\n",
        "\n",
        "  def qArea(self):\n",
        "    print(\"Area of quardilatral \", self.num*self.lengt*self.width*self.base*self.height)"
      ],
      "metadata": {
        "id": "LzY2fRvqp3B4"
      },
      "execution_count": null,
      "outputs": []
    },
    {
      "cell_type": "code",
      "source": [
        "tri = triangle(3, 4)"
      ],
      "metadata": {
        "id": "I_ZSn-JRp4B3"
      },
      "execution_count": null,
      "outputs": []
    },
    {
      "cell_type": "code",
      "source": [
        "tri.tArea()"
      ],
      "metadata": {
        "id": "AwyHPniEqERq"
      },
      "execution_count": null,
      "outputs": []
    },
    {
      "cell_type": "code",
      "source": [
        "rec = rectangle(6,32)"
      ],
      "metadata": {
        "id": "ReRxwlQwqHaw"
      },
      "execution_count": null,
      "outputs": []
    },
    {
      "cell_type": "code",
      "source": [
        "rec.rArea()"
      ],
      "metadata": {
        "id": "vOyIuZf3qNYz"
      },
      "execution_count": null,
      "outputs": []
    },
    {
      "cell_type": "code",
      "source": [
        "qa = quardilatral(2,3,4,5,8)"
      ],
      "metadata": {
        "id": "t7u1yl2gqQwB"
      },
      "execution_count": null,
      "outputs": []
    },
    {
      "cell_type": "code",
      "source": [
        "qa.qArea()"
      ],
      "metadata": {
        "id": "JHSBViinqR3E"
      },
      "execution_count": null,
      "outputs": []
    },
    {
      "cell_type": "code",
      "source": [
        ""
      ],
      "metadata": {
        "id": "f2QKVyuOqVsG"
      },
      "execution_count": null,
      "outputs": []
    },
    {
      "cell_type": "markdown",
      "source": [
        "#Normally Distributed Data Set"
      ],
      "metadata": {
        "id": "lpz1DrTlqiQp"
      }
    },
    {
      "cell_type": "code",
      "source": [
        "import seaborn as sns\n",
        "import numpy as np\n",
        "arr = np.random.randn(1000)\n",
        "sns.distplot(arr)"
      ],
      "metadata": {
        "colab": {
          "base_uri": "https://localhost:8080/",
          "height": 340
        },
        "id": "4jvRhxvmqp_X",
        "outputId": "8c7aff19-f2e4-4677-abb2-e04d6fdbadfe"
      },
      "execution_count": null,
      "outputs": [
        {
          "output_type": "stream",
          "name": "stderr",
          "text": [
            "/usr/local/lib/python3.7/dist-packages/seaborn/distributions.py:2619: FutureWarning: `distplot` is a deprecated function and will be removed in a future version. Please adapt your code to use either `displot` (a figure-level function with similar flexibility) or `histplot` (an axes-level function for histograms).\n",
            "  warnings.warn(msg, FutureWarning)\n"
          ]
        },
        {
          "output_type": "execute_result",
          "data": {
            "text/plain": [
              "<matplotlib.axes._subplots.AxesSubplot at 0x7fc7571b79d0>"
            ]
          },
          "metadata": {},
          "execution_count": 22
        },
        {
          "output_type": "display_data",
          "data": {
            "image/png": "[encoded data removed]",
            "text/plain": [
              "<Figure size 432x288 with 1 Axes>"
            ]
          },
          "metadata": {
            "needs_background": "light"
          }
        }
      ]
    }
  ]
}